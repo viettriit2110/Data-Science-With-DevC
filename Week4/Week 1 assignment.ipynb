{
 "cells": [
  {
   "cell_type": "markdown",
   "metadata": {
    "colab_type": "text",
    "id": "a4OoLOnPz2Uu"
   },
   "source": [
    "# Regression Week 1: Simple Linear Regression"
   ]
  },
  {
   "cell_type": "markdown",
   "metadata": {
    "colab_type": "text",
    "id": "7RZk5Btnz2Uw"
   },
   "source": [
    "In this notebook we will use data on house sales in King County to predict house prices using simple (one input) linear regression. You will:\n",
    "* Compute important summary statistics\n",
    "* Write a function to compute the Simple Linear Regression weights using the closed form solution\n",
    "* Write a function to make predictions of the output given the input feature\n",
    "* Turn the regression around to predict the input given the output\n",
    "* Compare two different models for predicting house prices\n",
    "\n",
    "In this notebook you will be provided with some already complete code as well as some code that you should complete yourself in order to answer quiz questions. The code we provide to complte is optional and is there to assist you with solving the problems but feel free to ignore the helper code and write your own."
   ]
  },
  {
   "cell_type": "markdown",
   "metadata": {
    "colab_type": "text",
    "id": "4niXU115z2Ux"
   },
   "source": [
    "# Fire up Sklearn + Pandas + Numpy "
   ]
  },
  {
   "cell_type": "code",
   "execution_count": 352,
   "metadata": {
    "colab": {},
    "colab_type": "code",
    "id": "LBNLMkvKz2Uy"
   },
   "outputs": [],
   "source": [
    "import pandas as pd\n",
    "import numpy as np\n",
    "import sklearn\n",
    "import matplotlib.pyplot as plt"
   ]
  },
  {
   "cell_type": "markdown",
   "metadata": {
    "colab_type": "text",
    "id": "rEiBL3e5z2U1"
   },
   "source": [
    "# Load house sales data\n",
    "\n",
    "Dataset is from house sales in King County, the region where the city of Seattle, WA is located."
   ]
  },
  {
   "cell_type": "code",
   "execution_count": 353,
   "metadata": {
    "colab": {},
    "colab_type": "code",
    "id": "a8IwBeOKz2U1"
   },
   "outputs": [],
   "source": [
    "# Data type format\n",
    "dtype_dict = {'bathrooms':float, 'waterfront':int, 'sqft_above':int, 'sqft_living15':float, 'grade':int, 'yr_renovated':int, 'price':float, 'bedrooms':float, 'zipcode':str, 'long':float, 'sqft_lot15':float, 'sqft_living':float, 'floors':str, 'condition':int, 'lat':float, 'date':str, 'sqft_basement':int, 'yr_built':int, 'id':str, 'sqft_lot':int, 'view':int}"
   ]
  },
  {
   "cell_type": "code",
   "execution_count": 354,
   "metadata": {
    "colab": {
     "base_uri": "https://localhost:8080/",
     "height": 375
    },
    "colab_type": "code",
    "executionInfo": {
     "elapsed": 2673,
     "status": "error",
     "timestamp": 1573481750204,
     "user": {
      "displayName": "Việt Nguyễn Trọng Hoàng",
      "photoUrl": "",
      "userId": "03589301170644785716"
     },
     "user_tz": -420
    },
    "id": "4cjMvBDGz2U3",
    "outputId": "4694d01f-fe63-47b1-87f8-92f6940a74a8"
   },
   "outputs": [],
   "source": [
    "sales = pd.read_csv('kc_house_data.csv', dtype=dtype_dict)"
   ]
  },
  {
   "cell_type": "code",
   "execution_count": 355,
   "metadata": {
    "colab": {},
    "colab_type": "code",
    "id": "SpyZcijtz2U5"
   },
   "outputs": [
    {
     "data": {
      "text/html": [
       "<div>\n",
       "<style scoped>\n",
       "    .dataframe tbody tr th:only-of-type {\n",
       "        vertical-align: middle;\n",
       "    }\n",
       "\n",
       "    .dataframe tbody tr th {\n",
       "        vertical-align: top;\n",
       "    }\n",
       "\n",
       "    .dataframe thead th {\n",
       "        text-align: right;\n",
       "    }\n",
       "</style>\n",
       "<table border=\"1\" class=\"dataframe\">\n",
       "  <thead>\n",
       "    <tr style=\"text-align: right;\">\n",
       "      <th></th>\n",
       "      <th>id</th>\n",
       "      <th>date</th>\n",
       "      <th>price</th>\n",
       "      <th>bedrooms</th>\n",
       "      <th>bathrooms</th>\n",
       "      <th>sqft_living</th>\n",
       "      <th>sqft_lot</th>\n",
       "      <th>floors</th>\n",
       "      <th>waterfront</th>\n",
       "      <th>view</th>\n",
       "      <th>...</th>\n",
       "      <th>grade</th>\n",
       "      <th>sqft_above</th>\n",
       "      <th>sqft_basement</th>\n",
       "      <th>yr_built</th>\n",
       "      <th>yr_renovated</th>\n",
       "      <th>zipcode</th>\n",
       "      <th>lat</th>\n",
       "      <th>long</th>\n",
       "      <th>sqft_living15</th>\n",
       "      <th>sqft_lot15</th>\n",
       "    </tr>\n",
       "  </thead>\n",
       "  <tbody>\n",
       "    <tr>\n",
       "      <th>0</th>\n",
       "      <td>7129300520</td>\n",
       "      <td>20141013T000000</td>\n",
       "      <td>221900.0</td>\n",
       "      <td>3.0</td>\n",
       "      <td>1.00</td>\n",
       "      <td>1180.0</td>\n",
       "      <td>5650</td>\n",
       "      <td>1</td>\n",
       "      <td>0</td>\n",
       "      <td>0</td>\n",
       "      <td>...</td>\n",
       "      <td>7</td>\n",
       "      <td>1180</td>\n",
       "      <td>0</td>\n",
       "      <td>1955</td>\n",
       "      <td>0</td>\n",
       "      <td>98178</td>\n",
       "      <td>47.5112</td>\n",
       "      <td>-122.257</td>\n",
       "      <td>1340.0</td>\n",
       "      <td>5650.0</td>\n",
       "    </tr>\n",
       "    <tr>\n",
       "      <th>1</th>\n",
       "      <td>6414100192</td>\n",
       "      <td>20141209T000000</td>\n",
       "      <td>538000.0</td>\n",
       "      <td>3.0</td>\n",
       "      <td>2.25</td>\n",
       "      <td>2570.0</td>\n",
       "      <td>7242</td>\n",
       "      <td>2</td>\n",
       "      <td>0</td>\n",
       "      <td>0</td>\n",
       "      <td>...</td>\n",
       "      <td>7</td>\n",
       "      <td>2170</td>\n",
       "      <td>400</td>\n",
       "      <td>1951</td>\n",
       "      <td>1991</td>\n",
       "      <td>98125</td>\n",
       "      <td>47.7210</td>\n",
       "      <td>-122.319</td>\n",
       "      <td>1690.0</td>\n",
       "      <td>7639.0</td>\n",
       "    </tr>\n",
       "    <tr>\n",
       "      <th>2</th>\n",
       "      <td>5631500400</td>\n",
       "      <td>20150225T000000</td>\n",
       "      <td>180000.0</td>\n",
       "      <td>2.0</td>\n",
       "      <td>1.00</td>\n",
       "      <td>770.0</td>\n",
       "      <td>10000</td>\n",
       "      <td>1</td>\n",
       "      <td>0</td>\n",
       "      <td>0</td>\n",
       "      <td>...</td>\n",
       "      <td>6</td>\n",
       "      <td>770</td>\n",
       "      <td>0</td>\n",
       "      <td>1933</td>\n",
       "      <td>0</td>\n",
       "      <td>98028</td>\n",
       "      <td>47.7379</td>\n",
       "      <td>-122.233</td>\n",
       "      <td>2720.0</td>\n",
       "      <td>8062.0</td>\n",
       "    </tr>\n",
       "    <tr>\n",
       "      <th>3</th>\n",
       "      <td>2487200875</td>\n",
       "      <td>20141209T000000</td>\n",
       "      <td>604000.0</td>\n",
       "      <td>4.0</td>\n",
       "      <td>3.00</td>\n",
       "      <td>1960.0</td>\n",
       "      <td>5000</td>\n",
       "      <td>1</td>\n",
       "      <td>0</td>\n",
       "      <td>0</td>\n",
       "      <td>...</td>\n",
       "      <td>7</td>\n",
       "      <td>1050</td>\n",
       "      <td>910</td>\n",
       "      <td>1965</td>\n",
       "      <td>0</td>\n",
       "      <td>98136</td>\n",
       "      <td>47.5208</td>\n",
       "      <td>-122.393</td>\n",
       "      <td>1360.0</td>\n",
       "      <td>5000.0</td>\n",
       "    </tr>\n",
       "    <tr>\n",
       "      <th>4</th>\n",
       "      <td>1954400510</td>\n",
       "      <td>20150218T000000</td>\n",
       "      <td>510000.0</td>\n",
       "      <td>3.0</td>\n",
       "      <td>2.00</td>\n",
       "      <td>1680.0</td>\n",
       "      <td>8080</td>\n",
       "      <td>1</td>\n",
       "      <td>0</td>\n",
       "      <td>0</td>\n",
       "      <td>...</td>\n",
       "      <td>8</td>\n",
       "      <td>1680</td>\n",
       "      <td>0</td>\n",
       "      <td>1987</td>\n",
       "      <td>0</td>\n",
       "      <td>98074</td>\n",
       "      <td>47.6168</td>\n",
       "      <td>-122.045</td>\n",
       "      <td>1800.0</td>\n",
       "      <td>7503.0</td>\n",
       "    </tr>\n",
       "    <tr>\n",
       "      <th>...</th>\n",
       "      <td>...</td>\n",
       "      <td>...</td>\n",
       "      <td>...</td>\n",
       "      <td>...</td>\n",
       "      <td>...</td>\n",
       "      <td>...</td>\n",
       "      <td>...</td>\n",
       "      <td>...</td>\n",
       "      <td>...</td>\n",
       "      <td>...</td>\n",
       "      <td>...</td>\n",
       "      <td>...</td>\n",
       "      <td>...</td>\n",
       "      <td>...</td>\n",
       "      <td>...</td>\n",
       "      <td>...</td>\n",
       "      <td>...</td>\n",
       "      <td>...</td>\n",
       "      <td>...</td>\n",
       "      <td>...</td>\n",
       "      <td>...</td>\n",
       "    </tr>\n",
       "    <tr>\n",
       "      <th>21608</th>\n",
       "      <td>0263000018</td>\n",
       "      <td>20140521T000000</td>\n",
       "      <td>360000.0</td>\n",
       "      <td>3.0</td>\n",
       "      <td>2.50</td>\n",
       "      <td>1530.0</td>\n",
       "      <td>1131</td>\n",
       "      <td>3</td>\n",
       "      <td>0</td>\n",
       "      <td>0</td>\n",
       "      <td>...</td>\n",
       "      <td>8</td>\n",
       "      <td>1530</td>\n",
       "      <td>0</td>\n",
       "      <td>2009</td>\n",
       "      <td>0</td>\n",
       "      <td>98103</td>\n",
       "      <td>47.6993</td>\n",
       "      <td>-122.346</td>\n",
       "      <td>1530.0</td>\n",
       "      <td>1509.0</td>\n",
       "    </tr>\n",
       "    <tr>\n",
       "      <th>21609</th>\n",
       "      <td>6600060120</td>\n",
       "      <td>20150223T000000</td>\n",
       "      <td>400000.0</td>\n",
       "      <td>4.0</td>\n",
       "      <td>2.50</td>\n",
       "      <td>2310.0</td>\n",
       "      <td>5813</td>\n",
       "      <td>2</td>\n",
       "      <td>0</td>\n",
       "      <td>0</td>\n",
       "      <td>...</td>\n",
       "      <td>8</td>\n",
       "      <td>2310</td>\n",
       "      <td>0</td>\n",
       "      <td>2014</td>\n",
       "      <td>0</td>\n",
       "      <td>98146</td>\n",
       "      <td>47.5107</td>\n",
       "      <td>-122.362</td>\n",
       "      <td>1830.0</td>\n",
       "      <td>7200.0</td>\n",
       "    </tr>\n",
       "    <tr>\n",
       "      <th>21610</th>\n",
       "      <td>1523300141</td>\n",
       "      <td>20140623T000000</td>\n",
       "      <td>402101.0</td>\n",
       "      <td>2.0</td>\n",
       "      <td>0.75</td>\n",
       "      <td>1020.0</td>\n",
       "      <td>1350</td>\n",
       "      <td>2</td>\n",
       "      <td>0</td>\n",
       "      <td>0</td>\n",
       "      <td>...</td>\n",
       "      <td>7</td>\n",
       "      <td>1020</td>\n",
       "      <td>0</td>\n",
       "      <td>2009</td>\n",
       "      <td>0</td>\n",
       "      <td>98144</td>\n",
       "      <td>47.5944</td>\n",
       "      <td>-122.299</td>\n",
       "      <td>1020.0</td>\n",
       "      <td>2007.0</td>\n",
       "    </tr>\n",
       "    <tr>\n",
       "      <th>21611</th>\n",
       "      <td>0291310100</td>\n",
       "      <td>20150116T000000</td>\n",
       "      <td>400000.0</td>\n",
       "      <td>3.0</td>\n",
       "      <td>2.50</td>\n",
       "      <td>1600.0</td>\n",
       "      <td>2388</td>\n",
       "      <td>2</td>\n",
       "      <td>0</td>\n",
       "      <td>0</td>\n",
       "      <td>...</td>\n",
       "      <td>8</td>\n",
       "      <td>1600</td>\n",
       "      <td>0</td>\n",
       "      <td>2004</td>\n",
       "      <td>0</td>\n",
       "      <td>98027</td>\n",
       "      <td>47.5345</td>\n",
       "      <td>-122.069</td>\n",
       "      <td>1410.0</td>\n",
       "      <td>1287.0</td>\n",
       "    </tr>\n",
       "    <tr>\n",
       "      <th>21612</th>\n",
       "      <td>1523300157</td>\n",
       "      <td>20141015T000000</td>\n",
       "      <td>325000.0</td>\n",
       "      <td>2.0</td>\n",
       "      <td>0.75</td>\n",
       "      <td>1020.0</td>\n",
       "      <td>1076</td>\n",
       "      <td>2</td>\n",
       "      <td>0</td>\n",
       "      <td>0</td>\n",
       "      <td>...</td>\n",
       "      <td>7</td>\n",
       "      <td>1020</td>\n",
       "      <td>0</td>\n",
       "      <td>2008</td>\n",
       "      <td>0</td>\n",
       "      <td>98144</td>\n",
       "      <td>47.5941</td>\n",
       "      <td>-122.299</td>\n",
       "      <td>1020.0</td>\n",
       "      <td>1357.0</td>\n",
       "    </tr>\n",
       "  </tbody>\n",
       "</table>\n",
       "<p>21613 rows × 21 columns</p>\n",
       "</div>"
      ],
      "text/plain": [
       "               id             date     price  bedrooms  bathrooms  \\\n",
       "0      7129300520  20141013T000000  221900.0       3.0       1.00   \n",
       "1      6414100192  20141209T000000  538000.0       3.0       2.25   \n",
       "2      5631500400  20150225T000000  180000.0       2.0       1.00   \n",
       "3      2487200875  20141209T000000  604000.0       4.0       3.00   \n",
       "4      1954400510  20150218T000000  510000.0       3.0       2.00   \n",
       "...           ...              ...       ...       ...        ...   \n",
       "21608  0263000018  20140521T000000  360000.0       3.0       2.50   \n",
       "21609  6600060120  20150223T000000  400000.0       4.0       2.50   \n",
       "21610  1523300141  20140623T000000  402101.0       2.0       0.75   \n",
       "21611  0291310100  20150116T000000  400000.0       3.0       2.50   \n",
       "21612  1523300157  20141015T000000  325000.0       2.0       0.75   \n",
       "\n",
       "       sqft_living  sqft_lot floors  waterfront  view  ...  grade  sqft_above  \\\n",
       "0           1180.0      5650      1           0     0  ...      7        1180   \n",
       "1           2570.0      7242      2           0     0  ...      7        2170   \n",
       "2            770.0     10000      1           0     0  ...      6         770   \n",
       "3           1960.0      5000      1           0     0  ...      7        1050   \n",
       "4           1680.0      8080      1           0     0  ...      8        1680   \n",
       "...            ...       ...    ...         ...   ...  ...    ...         ...   \n",
       "21608       1530.0      1131      3           0     0  ...      8        1530   \n",
       "21609       2310.0      5813      2           0     0  ...      8        2310   \n",
       "21610       1020.0      1350      2           0     0  ...      7        1020   \n",
       "21611       1600.0      2388      2           0     0  ...      8        1600   \n",
       "21612       1020.0      1076      2           0     0  ...      7        1020   \n",
       "\n",
       "       sqft_basement  yr_built  yr_renovated  zipcode      lat     long  \\\n",
       "0                  0      1955             0    98178  47.5112 -122.257   \n",
       "1                400      1951          1991    98125  47.7210 -122.319   \n",
       "2                  0      1933             0    98028  47.7379 -122.233   \n",
       "3                910      1965             0    98136  47.5208 -122.393   \n",
       "4                  0      1987             0    98074  47.6168 -122.045   \n",
       "...              ...       ...           ...      ...      ...      ...   \n",
       "21608              0      2009             0    98103  47.6993 -122.346   \n",
       "21609              0      2014             0    98146  47.5107 -122.362   \n",
       "21610              0      2009             0    98144  47.5944 -122.299   \n",
       "21611              0      2004             0    98027  47.5345 -122.069   \n",
       "21612              0      2008             0    98144  47.5941 -122.299   \n",
       "\n",
       "       sqft_living15  sqft_lot15  \n",
       "0             1340.0      5650.0  \n",
       "1             1690.0      7639.0  \n",
       "2             2720.0      8062.0  \n",
       "3             1360.0      5000.0  \n",
       "4             1800.0      7503.0  \n",
       "...              ...         ...  \n",
       "21608         1530.0      1509.0  \n",
       "21609         1830.0      7200.0  \n",
       "21610         1020.0      2007.0  \n",
       "21611         1410.0      1287.0  \n",
       "21612         1020.0      1357.0  \n",
       "\n",
       "[21613 rows x 21 columns]"
      ]
     },
     "execution_count": 355,
     "metadata": {},
     "output_type": "execute_result"
    }
   ],
   "source": [
    "sales"
   ]
  },
  {
   "cell_type": "code",
   "execution_count": 356,
   "metadata": {
    "colab": {},
    "colab_type": "code",
    "id": "R4obwXFhz2U7"
   },
   "outputs": [
    {
     "name": "stdout",
     "output_type": "stream",
     "text": [
      "Index(['id', 'date', 'price', 'bedrooms', 'bathrooms', 'sqft_living',\n",
      "       'sqft_lot', 'floors', 'waterfront', 'view', 'condition', 'grade',\n",
      "       'sqft_above', 'sqft_basement', 'yr_built', 'yr_renovated', 'zipcode',\n",
      "       'lat', 'long', 'sqft_living15', 'sqft_lot15'],\n",
      "      dtype='object')\n"
     ]
    }
   ],
   "source": [
    "# Show all columns\n",
    "print(sales.columns)"
   ]
  },
  {
   "cell_type": "code",
   "execution_count": 357,
   "metadata": {
    "colab": {},
    "colab_type": "code",
    "id": "PNJam4Pjz2U8"
   },
   "outputs": [],
   "source": [
    "# Select only sqft and price to train \n",
    "X = sales['sqft_living']\n",
    "y = sales['price']\n"
   ]
  },
  {
   "cell_type": "code",
   "execution_count": 358,
   "metadata": {
    "colab": {},
    "colab_type": "code",
    "id": "1tSD0DTyz2U-"
   },
   "outputs": [
    {
     "data": {
      "text/plain": [
       "[<matplotlib.lines.Line2D at 0x7fd42572ff28>]"
      ]
     },
     "execution_count": 358,
     "metadata": {},
     "output_type": "execute_result"
    },
    {
     "data": {
      "image/png": "[encoded data removed]",
      "text/plain": [
       "<Figure size 432x288 with 1 Axes>"
      ]
     },
     "metadata": {
      "needs_background": "light"
     },
     "output_type": "display_data"
    }
   ],
   "source": [
    "# Plot the data \n",
    "%matplotlib inline\n",
    "plt.plot(X, y, 'bo')"
   ]
  },
  {
   "cell_type": "markdown",
   "metadata": {
    "colab_type": "text",
    "id": "7Q8a7Fnzz2VA"
   },
   "source": [
    "# Split data into training and testing"
   ]
  },
  {
   "cell_type": "markdown",
   "metadata": {
    "colab_type": "text",
    "id": "cQo2A_X_z2VA"
   },
   "source": [
    "We use random_state=42 so that everyone running this notebook gets the same results.  In practice, you may set a random_state.  "
   ]
  },
  {
   "cell_type": "code",
   "execution_count": 359,
   "metadata": {
    "colab": {},
    "colab_type": "code",
    "id": "HBjU8-xEz2VB"
   },
   "outputs": [],
   "source": [
    "# Note: Using train_test_split \n",
    "from sklearn.model_selection import train_test_split\n",
    "X_train, X_test, y_train, y_test = train_test_split(X, y, test_size=0.2, random_state=42)"
   ]
  },
  {
   "cell_type": "markdown",
   "metadata": {
    "colab_type": "text",
    "id": "4-iq56jxz2VD"
   },
   "source": [
    "# Summary data"
   ]
  },
  {
   "cell_type": "code",
   "execution_count": 360,
   "metadata": {
    "colab": {},
    "colab_type": "code",
    "id": "80O1t8kMz2VE"
   },
   "outputs": [
    {
     "name": "stdout",
     "output_type": "stream",
     "text": [
      "average price via method 1:  540088.1417665294\n",
      "average price via method 2:  540088.1417665294\n"
     ]
    }
   ],
   "source": [
    "# Let's compute the mean of the House Prices in King County in 2 different ways.\n",
    "prices = sales['price'] \n",
    "\n",
    "# recall that the arithmetic average (the mean) is the sum of the prices divided by the total number of houses:\n",
    "# Use numpy \n",
    "sum_prices = np.sum(prices) # Or prices.sum()\n",
    "num_houses = len(prices)\n",
    "# There is two method to compute mean \n",
    "avg_price_1 = sum_prices/num_houses\n",
    "avg_price_2 = np.mean(prices)\n",
    "print(\"average price via method 1: \", str(avg_price_1))\n",
    "print(\"average price via method 2: \", str(avg_price_2))\n"
   ]
  },
  {
   "cell_type": "markdown",
   "metadata": {
    "colab_type": "text",
    "id": "gOVAbNXfz2VF"
   },
   "source": [
    "As we see we get the same answer both ways"
   ]
  },
  {
   "cell_type": "code",
   "execution_count": 361,
   "metadata": {
    "colab": {},
    "colab_type": "code",
    "id": "D2iMrANxz2VG"
   },
   "outputs": [
    {
     "name": "stdout",
     "output_type": "stream",
     "text": [
      "the sum of price squared is:  9217325138472070.0\n"
     ]
    }
   ],
   "source": [
    "# if we want to multiply every price by 0.5 it's a simple as:\n",
    "half_prices = 0.5*prices\n",
    "# Let's compute the sum of squares of price. We can multiply two Pandas array of the same length elementwise also with *\n",
    "prices_squared = prices*prices\n",
    "sum_prices_squared = prices_squared.sum() # price_squared is an Pandas array of the squares and we want to add them up.\n",
    "print(\"the sum of price squared is: \", str(sum_prices_squared))"
   ]
  },
  {
   "cell_type": "markdown",
   "metadata": {
    "colab_type": "text",
    "id": "nSeoa9pDz2VI"
   },
   "source": [
    "Aside: The python notation x.xxe+yy means x.xx \\* 10^(yy). e.g 100 = 10^2 = 1*10^2 = 1e2 "
   ]
  },
  {
   "cell_type": "markdown",
   "metadata": {
    "colab_type": "text",
    "id": "Gi0wQbEbz2VI"
   },
   "source": [
    "# Build a generic simple linear regression function "
   ]
  },
  {
   "cell_type": "markdown",
   "metadata": {
    "colab_type": "text",
    "id": "Dy19Kk4Jz2VJ"
   },
   "source": [
    "Armed with these functions we can use the closed form solution found from lecture to compute the slope and intercept for a simple linear regression on observations: input_feature, output.\n",
    "\n",
    "Complete the following function (or write your own) to compute the simple linear regression slope and intercept:"
   ]
  },
  {
   "cell_type": "code",
   "execution_count": 362,
   "metadata": {
    "colab": {},
    "colab_type": "code",
    "id": "XPGY_JgFz2VJ"
   },
   "outputs": [],
   "source": [
    "def simple_linear_regression(input_feature, output):\n",
    "    # compute the sum of input_feature and output\n",
    "    sum_X,sum_y = sum(input_feature),sum(output)\n",
    "    # compute the product of the output and the input_feature and its sum\n",
    "    sum_Xy=sum(input_feature*output)\n",
    "    # compute the squared value of the input_feature and its sum\n",
    "    sum_XX=sum(input_feature**2)\n",
    "    # use the formula for the slope\n",
    "    n=len(input_feature)\n",
    "    slope=(sum_Xy-(sum_X*sum_y)/n)/(sum_XX-(sum_X**2)/n)\n",
    "    # use the formula for the intercept\n",
    "    intercept=sum_y/n - slope*sum_X/n\n",
    "    return (intercept, slope)"
   ]
  },
  {
   "cell_type": "markdown",
   "metadata": {
    "colab_type": "text",
    "id": "Ay5u4nuHz2VL"
   },
   "source": [
    "We can test that our function works by passing it something where we know the answer. In particular we can generate a feature and then put the output exactly on a line: output = 1 + 1\\*input_feature then we know both our slope and intercept should be 1"
   ]
  },
  {
   "cell_type": "code",
   "execution_count": 363,
   "metadata": {
    "colab": {},
    "colab_type": "code",
    "id": "J2VgxCvfz2VL",
    "scrolled": true
   },
   "outputs": [
    {
     "name": "stdout",
     "output_type": "stream",
     "text": [
      "Intercept:  1.0\n",
      "Slope:  1.0\n"
     ]
    }
   ],
   "source": [
    "test_feature = np.array(range(5))\n",
    "test_output = test_feature + 1 \n",
    "(test_intercept, test_slope) =  simple_linear_regression(test_feature, test_output)\n",
    "print(\"Intercept: \", str(test_intercept))\n",
    "print(\"Slope: \", str(test_slope))"
   ]
  },
  {
   "cell_type": "markdown",
   "metadata": {
    "colab_type": "text",
    "id": "uprh6EECz2VN"
   },
   "source": [
    "Now that we know it works let's build a regression model for predicting price based on sqft_living. Rembember that we train on train_data!"
   ]
  },
  {
   "cell_type": "code",
   "execution_count": 364,
   "metadata": {
    "colab": {},
    "colab_type": "code",
    "id": "L-iblN7iz2VN"
   },
   "outputs": [
    {
     "name": "stdout",
     "output_type": "stream",
     "text": [
      "Intercept:  -41999.18603993696\n",
      "Slope:  279.55477931526366\n"
     ]
    }
   ],
   "source": [
    "sqft_intercept, sqft_slope = simple_linear_regression(X_train, y_train)\n",
    "\n",
    "print(\"Intercept: \", str(sqft_intercept))\n",
    "print(\"Slope: \", str(sqft_slope))"
   ]
  },
  {
   "cell_type": "markdown",
   "metadata": {
    "colab_type": "text",
    "id": "SsGqZljQz2VP"
   },
   "source": [
    "# Predicting Values"
   ]
  },
  {
   "cell_type": "markdown",
   "metadata": {
    "colab_type": "text",
    "id": "d2VED6mAz2VQ"
   },
   "source": [
    "Now that we have the model parameters: intercept & slope we can make predictions. Complete the following function to return the predicted output given the input_feature, slope and intercept:"
   ]
  },
  {
   "cell_type": "code",
   "execution_count": 365,
   "metadata": {
    "colab": {},
    "colab_type": "code",
    "id": "E4TgyyiTz2VQ"
   },
   "outputs": [],
   "source": [
    "def get_regression_predictions(input_feature, intercept, slope):\n",
    "    # calculate the predicted values:\n",
    "    predicted_values = intercept + slope*input_feature\n",
    "    return predicted_values"
   ]
  },
  {
   "cell_type": "markdown",
   "metadata": {
    "colab_type": "text",
    "id": "XyXY3xr2z2VS"
   },
   "source": [
    "Now that we can calculate a prediction given the slope and intercept let's make a prediction. Use (or alter) the following to find out the estimated price for a house with 2650 squarefeet according to the squarefeet model we estiamted above.\n",
    "\n",
    "**Quiz Question: Using your Slope and Intercept from (4), What is the predicted price for a house with 2650 sqft?**"
   ]
  },
  {
   "cell_type": "code",
   "execution_count": 366,
   "metadata": {
    "colab": {},
    "colab_type": "code",
    "id": "LqRn6VN1z2VS"
   },
   "outputs": [
    {
     "name": "stdout",
     "output_type": "stream",
     "text": [
      "The estimated price for a house with 2650 squarefeet is $698820.98\n"
     ]
    }
   ],
   "source": [
    "my_house_sqft = 2650\n",
    "estimated_price = get_regression_predictions(my_house_sqft, sqft_intercept, sqft_slope)\n",
    "print(\"The estimated price for a house with %d squarefeet is $%.2f\" % (my_house_sqft, estimated_price))"
   ]
  },
  {
   "cell_type": "markdown",
   "metadata": {
    "colab_type": "text",
    "id": "HXP1jsTez2VU"
   },
   "source": [
    "# Residual Sum of Squares"
   ]
  },
  {
   "cell_type": "markdown",
   "metadata": {
    "colab_type": "text",
    "id": "alqFvhcrz2VV"
   },
   "source": [
    "Now that we have a model and can make predictions let's evaluate our model using Residual Sum of Squares (RSS). Recall that RSS is the sum of the squares of the residuals and the residuals is just a fancy word for the difference between the predicted output and the true output. \n",
    "\n",
    "Complete the following (or write your own) function to compute the RSS of a simple linear regression model given the input_feature, output, intercept and slope:"
   ]
  },
  {
   "cell_type": "code",
   "execution_count": 367,
   "metadata": {
    "colab": {},
    "colab_type": "code",
    "id": "9kCh3O6Nz2VW"
   },
   "outputs": [],
   "source": [
    "def get_residual_sum_of_squares(input_feature, output, intercept, slope):\n",
    "    # First get the predictions\n",
    "    y_pred = intercept + slope*input_feature\n",
    "    # then compute the residuals (since we are squaring it doesn't matter which order you subtract)\n",
    "    y_hat = output - y_pred\n",
    "    # square the residuals and add them up\n",
    "    RSS=np.sum(y_hat**2)\n",
    "    return(RSS)"
   ]
  },
  {
   "cell_type": "markdown",
   "metadata": {
    "colab_type": "text",
    "id": "nVpt4Vr8z2VZ"
   },
   "source": [
    "Let's test our get_residual_sum_of_squares function by applying it to the test model where the data lie exactly on a line. Since they lie exactly on a line the residual sum of squares should be zero!"
   ]
  },
  {
   "cell_type": "code",
   "execution_count": 368,
   "metadata": {
    "colab": {},
    "colab_type": "code",
    "id": "UOD1Ab7Lz2VZ"
   },
   "outputs": [
    {
     "name": "stdout",
     "output_type": "stream",
     "text": [
      "0.0\n"
     ]
    }
   ],
   "source": [
    "print(get_residual_sum_of_squares(test_feature, test_output, test_intercept, test_slope)) # should be 0.0"
   ]
  },
  {
   "cell_type": "markdown",
   "metadata": {
    "colab_type": "text",
    "id": "WJTfUtJRz2Vb"
   },
   "source": [
    "Now use your function to calculate the RSS on training data from the squarefeet model calculated above.\n",
    "\n",
    "**Quiz Question: According to this function and the slope and intercept from the squarefeet model What is the RSS for the simple linear regression using squarefeet to predict prices on TRAINING data?**"
   ]
  },
  {
   "cell_type": "code",
   "execution_count": 369,
   "metadata": {
    "colab": {},
    "colab_type": "code",
    "id": "7-Glitrpz2Vc"
   },
   "outputs": [
    {
     "name": "stdout",
     "output_type": "stream",
     "text": [
      "The RSS of predicting Prices based on Square Feet is : 1146661523194315.0\n"
     ]
    }
   ],
   "source": [
    "rss_prices_on_sqft = get_residual_sum_of_squares(X_train, y_train, sqft_intercept, sqft_slope)\n",
    "print ('The RSS of predicting Prices based on Square Feet is : ' + str(rss_prices_on_sqft))"
   ]
  },
  {
   "cell_type": "markdown",
   "metadata": {
    "colab_type": "text",
    "id": "LrbVVl3az2Vd"
   },
   "source": [
    "# Predict the squarefeet given price"
   ]
  },
  {
   "cell_type": "markdown",
   "metadata": {
    "colab_type": "text",
    "id": "C3v6--IJz2Ve"
   },
   "source": [
    "What if we want to predict the squarefoot given the price? Since we have an equation y = a + b\\*x we can solve the function for x. So that if we have the intercept (a) and the slope (b) and the price (y) we can solve for the estimated squarefeet (x).\n",
    "\n",
    "Complete the following function to compute the inverse regression estimate, i.e. predict the input_feature given the output."
   ]
  },
  {
   "cell_type": "code",
   "execution_count": 370,
   "metadata": {
    "colab": {},
    "colab_type": "code",
    "id": "dBgN025Sz2Ve"
   },
   "outputs": [],
   "source": [
    "def inverse_regression_predictions(output, intercept, slope):\n",
    "    # solve output = intercept + slope*input_feature for input_feature. Use this equation to compute the inverse predictions:\n",
    "    estimated_feature = (output-intercept)/slope\n",
    "    return estimated_feature"
   ]
  },
  {
   "cell_type": "markdown",
   "metadata": {
    "colab_type": "text",
    "id": "V9QwBXmDz2Vg"
   },
   "source": [
    "Now that we have a function to compute the squarefeet given the price from our simple regression model let's see how big we might expect a house that costs $800,000 to be.\n",
    "\n",
    "**Quiz Question: According to this function and the regression slope and intercept from (3) what is the estimated square-feet for a house costing $800,000?**"
   ]
  },
  {
   "cell_type": "code",
   "execution_count": 371,
   "metadata": {
    "colab": {},
    "colab_type": "code",
    "id": "RGcU9Vuzz2Vg"
   },
   "outputs": [
    {
     "name": "stdout",
     "output_type": "stream",
     "text": [
      "The estimated squarefeet for a house worth $800000.00 is 3011\n"
     ]
    }
   ],
   "source": [
    "my_house_price = 800000\n",
    "estimated_squarefeet = inverse_regression_predictions(my_house_price, sqft_intercept, sqft_slope)\n",
    "print (\"The estimated squarefeet for a house worth $%.2f is %d\" % (my_house_price, estimated_squarefeet))"
   ]
  },
  {
   "cell_type": "markdown",
   "metadata": {
    "colab_type": "text",
    "id": "TL-n5LXhz2Vi"
   },
   "source": [
    "# New Model: estimate prices from bedrooms"
   ]
  },
  {
   "cell_type": "raw",
   "metadata": {
    "colab_type": "text",
    "id": "dsG7ehLBz2Vi"
   },
   "source": [
    "We have made one model for predicting house prices using squarefeet, but there are many other features in the sales SFrame. \n",
    "Use your simple linear regression function to estimate the regression parameters from predicting Prices based on number of bedrooms. Use the training data!"
   ]
  },
  {
   "cell_type": "code",
   "execution_count": 372,
   "metadata": {
    "colab": {},
    "colab_type": "code",
    "id": "336VwVxHz2Vj"
   },
   "outputs": [
    {
     "name": "stdout",
     "output_type": "stream",
     "text": [
      "Intercept:  134823.86896686727\n",
      "Slope:  119634.32393857413\n"
     ]
    }
   ],
   "source": [
    "# Estimate the slope and intercept for predicting 'price' based on 'bedrooms'\n",
    "X2 = sales['bedrooms']\n",
    "\n",
    "# Note: Using train_test_split \n",
    "from sklearn.model_selection import train_test_split\n",
    "X2_train, X2_test= train_test_split(X2, test_size=0.2, random_state=42)\n",
    "\n",
    "bed_intercept, bed_slope = simple_linear_regression(X2_train, y_train)\n",
    "\n",
    "print(\"Intercept: \", str(bed_intercept))\n",
    "print(\"Slope: \", str(bed_slope))"
   ]
  },
  {
   "cell_type": "markdown",
   "metadata": {
    "colab_type": "text",
    "id": "OJo5zUAhz2Vk"
   },
   "source": [
    "# Test your Linear Regression Algorithm"
   ]
  },
  {
   "cell_type": "markdown",
   "metadata": {
    "colab_type": "text",
    "id": "kGxTNu9Gz2Vk"
   },
   "source": [
    "Now we have two models for predicting the price of a house. How do we know which one is better? Calculate the RSS on the TEST data (remember this data wasn't involved in learning the model). Compute the RSS from predicting prices using bedrooms and from predicting prices using squarefeet.\n",
    "\n",
    "**Quiz Question: Which model (square feet or bedrooms) has lowest RSS on TEST data? Think about why this might be the case.**"
   ]
  },
  {
   "cell_type": "code",
   "execution_count": 373,
   "metadata": {
    "colab": {},
    "colab_type": "code",
    "id": "FGG3i-ngz2Vl"
   },
   "outputs": [
    {
     "name": "stdout",
     "output_type": "stream",
     "text": [
      "The RSS of predicting Prices based on bedrooms is : 2044259865100163.5\n"
     ]
    }
   ],
   "source": [
    "# Compute RSS when using bedrooms on TEST data:\n",
    "rss_prices = get_residual_sum_of_squares(X2_train, y_train, bed_intercept, bed_slope)\n",
    "print('The RSS of predicting Prices based on bedrooms is : ' + str(rss_prices))"
   ]
  },
  {
   "cell_type": "code",
   "execution_count": 374,
   "metadata": {
    "colab": {},
    "colab_type": "code",
    "id": "vwvUjLXLz2Vn"
   },
   "outputs": [
    {
     "name": "stdout",
     "output_type": "stream",
     "text": [
      "The RSS of predicting Prices based on Square Feet is : 1146661523194315.0\n"
     ]
    }
   ],
   "source": [
    "# Compute RSS when using squarefeet on TEST data:\n",
    "rss_prices_on_sqft = get_residual_sum_of_squares(X_train, y_train, sqft_intercept, sqft_slope)\n",
    "print('The RSS of predicting Prices based on Square Feet is : ' + str(rss_prices_on_sqft))"
   ]
  },
  {
   "cell_type": "markdown",
   "metadata": {
    "colab_type": "text",
    "id": "YP9aGsJ8z2Vp"
   },
   "source": [
    "# Visual your linear model along with data "
   ]
  },
  {
   "cell_type": "markdown",
   "metadata": {
    "colab_type": "text",
    "id": "no9yHGmRz2Vq"
   },
   "source": [
    "Now it's the time to visual your model, using matplotlib "
   ]
  },
  {
   "cell_type": "code",
   "execution_count": 375,
   "metadata": {
    "colab": {},
    "colab_type": "code",
    "id": "OQeG230Pz2Vq"
   },
   "outputs": [
    {
     "name": "stdout",
     "output_type": "stream",
     "text": [
      "0        493726.840783\n",
      "1        493726.840783\n",
      "2        374092.516844\n",
      "3        613361.164721\n",
      "4        493726.840783\n",
      "             ...      \n",
      "21608    493726.840783\n",
      "21609    613361.164721\n",
      "21610    374092.516844\n",
      "21611    493726.840783\n",
      "21612    374092.516844\n",
      "Name: bedrooms, Length: 21613, dtype: float64\n"
     ]
    },
    {
     "data": {
      "text/plain": [
       "[<matplotlib.lines.Line2D at 0x7fd426143320>]"
      ]
     },
     "execution_count": 375,
     "metadata": {},
     "output_type": "execute_result"
    },
    {
     "data": {
      "image/png": "[encoded data removed]",
      "text/plain": [
       "<Figure size 432x288 with 1 Axes>"
      ]
     },
     "metadata": {
      "needs_background": "light"
     },
     "output_type": "display_data"
    }
   ],
   "source": [
    "# Your code here \n",
    "%matplotlib inline\n",
    "plt.plot(X2, y, 'bo')\n",
    "y_predicted = bed_slope* X2 + bed_intercept\n",
    "print(y_predicted)\n",
    "plt.plot(X2, y_predicted, '-r')\n"
   ]
  },
  {
   "cell_type": "markdown",
   "metadata": {
    "colab_type": "text",
    "id": "kRef2Hr1z2Vt"
   },
   "source": [
    "# Using Sklearn's Linear Regression "
   ]
  },
  {
   "cell_type": "markdown",
   "metadata": {
    "colab_type": "text",
    "id": "vRYrwVlHz2Vt"
   },
   "source": [
    "Sklearn is a great Machine Learning Library, so you could use it for implement and compare with your model "
   ]
  },
  {
   "cell_type": "code",
   "execution_count": 376,
   "metadata": {
    "colab": {},
    "colab_type": "code",
    "id": "LNx0ms39z2Vu"
   },
   "outputs": [],
   "source": [
    "# Load model \n",
    "from sklearn import datasets, linear_model\n",
    "from sklearn.linear_model import LinearRegression"
   ]
  },
  {
   "cell_type": "code",
   "execution_count": 377,
   "metadata": {
    "colab": {},
    "colab_type": "code",
    "id": "_c5WYAB8z2Vv"
   },
   "outputs": [
    {
     "name": "stdout",
     "output_type": "stream",
     "text": [
      "[[119634.32393857]] [134823.86896687]\n"
     ]
    }
   ],
   "source": [
    "# Your code here \n",
    "X2 = (np.array(X2)).reshape(-1,1)\n",
    "X2_train = (np.array(X2_train)).reshape(-1,1)\n",
    "X2_test = (np.array(X2_test)).reshape(-1,1)\n",
    "y_train = (np.array(y_train)).reshape(-1,1)\n",
    "y_test = (np.array(y_test)).reshape(-1,1)\n",
    "model=LinearRegression()\n",
    "model.fit(X2_train, y_train)\n",
    "bed_sklearn_slope, bed_sklearn_intercept = model.coef_, model.intercept_\n",
    "print(bed_sklearn_slope, bed_sklearn_intercept)"
   ]
  },
  {
   "cell_type": "code",
   "execution_count": 378,
   "metadata": {
    "colab": {},
    "colab_type": "code",
    "id": "_c5WYAB8z2Vv"
   },
   "outputs": [
    {
     "name": "stdout",
     "output_type": "stream",
     "text": [
      "[[493726.84078259]\n",
      " [493726.84078259]\n",
      " [374092.51684402]\n",
      " ...\n",
      " [374092.51684402]\n",
      " [493726.84078259]\n",
      " [374092.51684402]]\n"
     ]
    }
   ],
   "source": [
    "X2_train.shape\n",
    "y_bed_predicted = bed_sklearn_slope*X2+bed_sklearn_intercept\n",
    "print(y_bed_predicted)"
   ]
  },
  {
   "cell_type": "markdown",
   "metadata": {
    "colab_type": "text",
    "id": "2ziT_3Lyz2Vx"
   },
   "source": [
    "# Compare your model with Sklearn"
   ]
  },
  {
   "cell_type": "code",
   "execution_count": 379,
   "metadata": {
    "colab": {},
    "colab_type": "code",
    "id": "-OKZJ2qPz2Vx"
   },
   "outputs": [
    {
     "name": "stdout",
     "output_type": "stream",
     "text": [
      "Print the RSS on test data 2070091762085966.0\n"
     ]
    }
   ],
   "source": [
    "# Print the RSS on test data \n",
    "the_RSS_on_test_data = get_residual_sum_of_squares(X2_train, y_train, bed_sklearn_slope, bed_sklearn_intercept)\n",
    "print('Print the RSS on test data', the_RSS_on_test_data)"
   ]
  },
  {
   "cell_type": "code",
   "execution_count": 380,
   "metadata": {
    "colab": {},
    "colab_type": "code",
    "id": "ZtSnhE71z2Vy"
   },
   "outputs": [
    {
     "name": "stdout",
     "output_type": "stream",
     "text": [
      "[[493726.84078259]\n",
      " [493726.84078259]\n",
      " [374092.51684402]\n",
      " ...\n",
      " [374092.51684402]\n",
      " [493726.84078259]\n",
      " [374092.51684402]]\n"
     ]
    },
    {
     "data": {
      "text/plain": [
       "[<matplotlib.lines.Line2D at 0x7fd425e18898>]"
      ]
     },
     "execution_count": 380,
     "metadata": {},
     "output_type": "execute_result"
    },
    {
     "data": {
      "image/png": "[encoded data removed]",
      "text/plain": [
       "<Figure size 432x288 with 1 Axes>"
      ]
     },
     "metadata": {
      "needs_background": "light"
     },
     "output_type": "display_data"
    }
   ],
   "source": [
    "# Plot data and 2 models to compare \n",
    "%matplotlib inline\n",
    "plt.plot(X2, y, 'bo')\n",
    "print(y_bed_predicted)\n",
    "plt.plot(X2, y_bed_predicted, '-r')"
   ]
  },
  {
   "cell_type": "markdown",
   "metadata": {
    "colab": {},
    "colab_type": "code",
    "id": "ZtSnhE71z2Vy"
   },
   "source": []
  },
  {
   "cell_type": "markdown",
   "metadata": {
    "colab_type": "text",
    "id": "Ae_NMT_Gz2V0"
   },
   "source": [
    "# Least Square model "
   ]
  },
  {
   "cell_type": "markdown",
   "metadata": {
    "colab_type": "text",
    "id": "aq3JZc0Lz2V1"
   },
   "source": [
    "It's the time to use all variables to train, let's start with Least Squares  first, it could be better if you can compare between Least Squares of Linear Regression and LS of Ridge Regression. Remember, you must use all variables, checkout the formular of LS in LinearRegressionAndLogisticRegression.pdf and do it with numpy "
   ]
  },
  {
   "cell_type": "code",
   "execution_count": 381,
   "metadata": {
    "colab": {},
    "colab_type": "code",
    "id": "VAzTFILVz2V2"
   },
   "outputs": [],
   "source": [
    "# Your LS code here \n",
    "def least_square(X_train,y_train):\n",
    "    X_mean = np.mean(X_train)\n",
    "    y_mean = np.mean(y_train)\n",
    "    num=den=0\n",
    "    for i in range(len(X_train)):\n",
    "        num+=(X_train[i]-X_mean)*(y_train[i]-y_mean)\n",
    "        den+=(X_train[i]-X_mean)**2\n",
    "    new_slope_ls = num/den\n",
    "    new_intercept_ls = y_mean-new_slope_ls*X_mean\n",
    "    return new_slope_ls, new_intercept_ls\n"
   ]
  },
  {
   "cell_type": "code",
   "execution_count": 382,
   "metadata": {
    "colab": {},
    "colab_type": "code",
    "id": "CdnhFe1kz2V4"
   },
   "outputs": [],
   "source": [
    "# Your RSS function here \n",
    "def RSS_LS(X_train, y_train, slope, intercept):\n",
    "    y_prdic = slope*X_train +intercept\n",
    "    loss = y_train-y_prdic\n",
    "    RSS = sum(loss**2)\n",
    "    return RSS/len(X_train)"
   ]
  },
  {
   "cell_type": "code",
   "execution_count": 383,
   "metadata": {
    "colab": {},
    "colab_type": "code",
    "id": "XXeJ0RfMz2V5"
   },
   "outputs": [
    {
     "name": "stdout",
     "output_type": "stream",
     "text": [
      "[119634.3239386] [134823.86896679]\n",
      "the RSS of least square method =  [1.18233653e+11]\n"
     ]
    }
   ],
   "source": [
    "# Print the RSS value \n",
    "new_slope_ls,new_intercept_ls = least_square(X2_train, y_train)\n",
    "print(new_slope_ls, new_intercept_ls)\n",
    "RSS_value = RSS_LS(X2_train,y_train, new_slope_ls,new_intercept_ls)\n",
    "print(\"the RSS of least square method = \", RSS_value)"
   ]
  },
  {
   "cell_type": "markdown",
   "metadata": {
    "colab_type": "text",
    "id": "-ivkuGchz2V7"
   },
   "source": [
    "# Sklearn model "
   ]
  },
  {
   "cell_type": "markdown",
   "metadata": {
    "colab_type": "text",
    "id": "jrnTjLtMz2V7"
   },
   "source": [
    "Let's build a Sklearn model using Linear model above with all variables and compare with Least Square "
   ]
  },
  {
   "cell_type": "code",
   "execution_count": 384,
   "metadata": {
    "colab": {},
    "colab_type": "code",
    "id": "o5bhxQ1sz2V8"
   },
   "outputs": [],
   "source": [
    "# Your Sklearn code here \n",
    "models = LinearRegression()\n",
    "models.fit(X2_train,y_train)\n",
    "slopes = models.coef_\n",
    "intercepts = models.intercept_\n",
    "y_pre = slopes*X2_train+intercepts"
   ]
  },
  {
   "cell_type": "code",
   "execution_count": 385,
   "metadata": {
    "colab": {},
    "colab_type": "code",
    "id": "W3gQlaYyz2V-"
   },
   "outputs": [
    {
     "name": "stdout",
     "output_type": "stream",
     "text": [
      "[2.04425987e+15]\n"
     ]
    }
   ],
   "source": [
    "# Your RSS show here \n",
    "RSS = sum((y_train - y_pre)**2)\n",
    "print(RSS)"
   ]
  },
  {
   "cell_type": "markdown",
   "metadata": {
    "colab_type": "text",
    "id": "dv4qunh-z2WC"
   },
   "source": [
    "# Advanced: Can you build your own one? \n",
    "It's time to build a Linear Regression with Gradient Descent, Let's build LS model with and without Regularization, including all variables and make comparison, have fun!"
   ]
  },
  {
   "cell_type": "code",
   "execution_count": 386,
   "metadata": {
    "colab": {},
    "colab_type": "code",
    "id": "j5f0Cu8Wz2WC"
   },
   "outputs": [],
   "source": [
    "# Define your model here \n",
    "import pandas as pd\n",
    "import numpy as np\n",
    "import sklearn\n",
    "import seaborn as sns\n",
    "import plotly.graph_objects as go\n",
    "import plotly.express as px\n",
    "import matplotlib.pyplot as plt"
   ]
  },
  {
   "cell_type": "markdown",
   "metadata": {
    "colab_type": "text",
    "id": "s5ySDfbdz2WD"
   },
   "source": [
    "# Create some new features"
   ]
  },
  {
   "cell_type": "markdown",
   "metadata": {
    "colab_type": "text",
    "id": "dqSdhqUdz2WE"
   },
   "source": [
    "Although we often think of multiple regression as including multiple different features (e.g. # of bedrooms, squarefeet, and # of bathrooms) but we can also consider transformations of existing features e.g. the log of the squarefeet or even \"interaction\" features such as the product of bedrooms and bathrooms.\n",
    "You will use the logarithm function to create a new feature. so first you should import it from the math library."
   ]
  },
  {
   "cell_type": "markdown",
   "metadata": {
    "colab_type": "text",
    "id": "pEoyinrGz2WE"
   },
   "source": [
    "Next create the following 4 new features as column in both TEST and TRAIN data:\n",
    "* bedrooms_squared = bedrooms\\*bedrooms\n",
    "* bed_bath_rooms = bedrooms\\*bathrooms\n",
    "* log_sqft_living = log(sqft_living)\n",
    "* lat_plus_long = lat + long \n",
    "As an example here's the first one:"
   ]
  },
  {
   "cell_type": "code",
   "execution_count": 387,
   "metadata": {
    "colab": {},
    "colab_type": "code",
    "id": "SyXO2iBJz2WF"
   },
   "outputs": [],
   "source": [
    "# create the remaining 3 features in both TEST and TRAIN data\n",
    "dtype_dict = {'bathrooms':float, 'waterfront':int, 'sqft_above':int, 'sqft_living15':float, 'grade':int, 'yr_renovated':int, 'price':float, 'bedrooms':float, 'zipcode':str, 'long':float, 'sqft_lot15':float, 'sqft_living':float, 'floors':str, 'condition':int, 'lat':float, 'date':str, 'sqft_basement':int, 'yr_built':int, 'id':str, 'sqft_lot':int, 'view':int}\n",
    "sales = pd.read_csv('kc_house_data.csv', dtype=dtype_dict)\n"
   ]
  },
  {
   "cell_type": "code",
   "execution_count": 388,
   "metadata": {
    "colab": {},
    "colab_type": "code",
    "id": "SyXO2iBJz2WF"
   },
   "outputs": [
    {
     "data": {
      "text/html": [
       "<div>\n",
       "<style scoped>\n",
       "    .dataframe tbody tr th:only-of-type {\n",
       "        vertical-align: middle;\n",
       "    }\n",
       "\n",
       "    .dataframe tbody tr th {\n",
       "        vertical-align: top;\n",
       "    }\n",
       "\n",
       "    .dataframe thead th {\n",
       "        text-align: right;\n",
       "    }\n",
       "</style>\n",
       "<table border=\"1\" class=\"dataframe\">\n",
       "  <thead>\n",
       "    <tr style=\"text-align: right;\">\n",
       "      <th></th>\n",
       "      <th>id</th>\n",
       "      <th>date</th>\n",
       "      <th>price</th>\n",
       "      <th>bedrooms</th>\n",
       "      <th>bathrooms</th>\n",
       "      <th>sqft_living</th>\n",
       "      <th>sqft_lot</th>\n",
       "      <th>floors</th>\n",
       "      <th>waterfront</th>\n",
       "      <th>view</th>\n",
       "      <th>...</th>\n",
       "      <th>grade</th>\n",
       "      <th>sqft_above</th>\n",
       "      <th>sqft_basement</th>\n",
       "      <th>yr_built</th>\n",
       "      <th>yr_renovated</th>\n",
       "      <th>zipcode</th>\n",
       "      <th>lat</th>\n",
       "      <th>long</th>\n",
       "      <th>sqft_living15</th>\n",
       "      <th>sqft_lot15</th>\n",
       "    </tr>\n",
       "  </thead>\n",
       "  <tbody>\n",
       "    <tr>\n",
       "      <th>0</th>\n",
       "      <td>7129300520</td>\n",
       "      <td>20141013T000000</td>\n",
       "      <td>221900.0</td>\n",
       "      <td>3.0</td>\n",
       "      <td>1.00</td>\n",
       "      <td>1180.0</td>\n",
       "      <td>5650</td>\n",
       "      <td>1</td>\n",
       "      <td>0</td>\n",
       "      <td>0</td>\n",
       "      <td>...</td>\n",
       "      <td>7</td>\n",
       "      <td>1180</td>\n",
       "      <td>0</td>\n",
       "      <td>1955</td>\n",
       "      <td>0</td>\n",
       "      <td>98178</td>\n",
       "      <td>47.5112</td>\n",
       "      <td>-122.257</td>\n",
       "      <td>1340.0</td>\n",
       "      <td>5650.0</td>\n",
       "    </tr>\n",
       "    <tr>\n",
       "      <th>1</th>\n",
       "      <td>6414100192</td>\n",
       "      <td>20141209T000000</td>\n",
       "      <td>538000.0</td>\n",
       "      <td>3.0</td>\n",
       "      <td>2.25</td>\n",
       "      <td>2570.0</td>\n",
       "      <td>7242</td>\n",
       "      <td>2</td>\n",
       "      <td>0</td>\n",
       "      <td>0</td>\n",
       "      <td>...</td>\n",
       "      <td>7</td>\n",
       "      <td>2170</td>\n",
       "      <td>400</td>\n",
       "      <td>1951</td>\n",
       "      <td>1991</td>\n",
       "      <td>98125</td>\n",
       "      <td>47.7210</td>\n",
       "      <td>-122.319</td>\n",
       "      <td>1690.0</td>\n",
       "      <td>7639.0</td>\n",
       "    </tr>\n",
       "    <tr>\n",
       "      <th>2</th>\n",
       "      <td>5631500400</td>\n",
       "      <td>20150225T000000</td>\n",
       "      <td>180000.0</td>\n",
       "      <td>2.0</td>\n",
       "      <td>1.00</td>\n",
       "      <td>770.0</td>\n",
       "      <td>10000</td>\n",
       "      <td>1</td>\n",
       "      <td>0</td>\n",
       "      <td>0</td>\n",
       "      <td>...</td>\n",
       "      <td>6</td>\n",
       "      <td>770</td>\n",
       "      <td>0</td>\n",
       "      <td>1933</td>\n",
       "      <td>0</td>\n",
       "      <td>98028</td>\n",
       "      <td>47.7379</td>\n",
       "      <td>-122.233</td>\n",
       "      <td>2720.0</td>\n",
       "      <td>8062.0</td>\n",
       "    </tr>\n",
       "    <tr>\n",
       "      <th>3</th>\n",
       "      <td>2487200875</td>\n",
       "      <td>20141209T000000</td>\n",
       "      <td>604000.0</td>\n",
       "      <td>4.0</td>\n",
       "      <td>3.00</td>\n",
       "      <td>1960.0</td>\n",
       "      <td>5000</td>\n",
       "      <td>1</td>\n",
       "      <td>0</td>\n",
       "      <td>0</td>\n",
       "      <td>...</td>\n",
       "      <td>7</td>\n",
       "      <td>1050</td>\n",
       "      <td>910</td>\n",
       "      <td>1965</td>\n",
       "      <td>0</td>\n",
       "      <td>98136</td>\n",
       "      <td>47.5208</td>\n",
       "      <td>-122.393</td>\n",
       "      <td>1360.0</td>\n",
       "      <td>5000.0</td>\n",
       "    </tr>\n",
       "    <tr>\n",
       "      <th>4</th>\n",
       "      <td>1954400510</td>\n",
       "      <td>20150218T000000</td>\n",
       "      <td>510000.0</td>\n",
       "      <td>3.0</td>\n",
       "      <td>2.00</td>\n",
       "      <td>1680.0</td>\n",
       "      <td>8080</td>\n",
       "      <td>1</td>\n",
       "      <td>0</td>\n",
       "      <td>0</td>\n",
       "      <td>...</td>\n",
       "      <td>8</td>\n",
       "      <td>1680</td>\n",
       "      <td>0</td>\n",
       "      <td>1987</td>\n",
       "      <td>0</td>\n",
       "      <td>98074</td>\n",
       "      <td>47.6168</td>\n",
       "      <td>-122.045</td>\n",
       "      <td>1800.0</td>\n",
       "      <td>7503.0</td>\n",
       "    </tr>\n",
       "  </tbody>\n",
       "</table>\n",
       "<p>5 rows × 21 columns</p>\n",
       "</div>"
      ],
      "text/plain": [
       "           id             date     price  bedrooms  bathrooms  sqft_living  \\\n",
       "0  7129300520  20141013T000000  221900.0       3.0       1.00       1180.0   \n",
       "1  6414100192  20141209T000000  538000.0       3.0       2.25       2570.0   \n",
       "2  5631500400  20150225T000000  180000.0       2.0       1.00        770.0   \n",
       "3  2487200875  20141209T000000  604000.0       4.0       3.00       1960.0   \n",
       "4  1954400510  20150218T000000  510000.0       3.0       2.00       1680.0   \n",
       "\n",
       "   sqft_lot floors  waterfront  view  ...  grade  sqft_above  sqft_basement  \\\n",
       "0      5650      1           0     0  ...      7        1180              0   \n",
       "1      7242      2           0     0  ...      7        2170            400   \n",
       "2     10000      1           0     0  ...      6         770              0   \n",
       "3      5000      1           0     0  ...      7        1050            910   \n",
       "4      8080      1           0     0  ...      8        1680              0   \n",
       "\n",
       "   yr_built  yr_renovated  zipcode      lat     long  sqft_living15  \\\n",
       "0      1955             0    98178  47.5112 -122.257         1340.0   \n",
       "1      1951          1991    98125  47.7210 -122.319         1690.0   \n",
       "2      1933             0    98028  47.7379 -122.233         2720.0   \n",
       "3      1965             0    98136  47.5208 -122.393         1360.0   \n",
       "4      1987             0    98074  47.6168 -122.045         1800.0   \n",
       "\n",
       "   sqft_lot15  \n",
       "0      5650.0  \n",
       "1      7639.0  \n",
       "2      8062.0  \n",
       "3      5000.0  \n",
       "4      7503.0  \n",
       "\n",
       "[5 rows x 21 columns]"
      ]
     },
     "execution_count": 388,
     "metadata": {},
     "output_type": "execute_result"
    }
   ],
   "source": [
    "sales.head()"
   ]
  },
  {
   "cell_type": "code",
   "execution_count": 389,
   "metadata": {
    "colab": {},
    "colab_type": "code",
    "id": "SyXO2iBJz2WF"
   },
   "outputs": [],
   "source": [
    "sales = sales.drop(['id', 'date', 'waterfront','view'], axis = 1)"
   ]
  },
  {
   "cell_type": "code",
   "execution_count": null,
   "metadata": {},
   "outputs": [],
   "source": [
    "df_x = np.array(sales['bedrooms'])\n",
    "df_x1 = np.array(sales['bathrooms'])\n",
    "df_x2 = np.array(sales['grade'])\n",
    "df_y = np.array(sales['price'])"
   ]
  },
  {
   "cell_type": "code",
   "execution_count": 404,
   "metadata": {},
   "outputs": [
    {
     "data": {
      "image/png": "[encoded data removed]",
      "text/plain": [
       "<Figure size 432x288 with 1 Axes>"
      ]
     },
     "metadata": {
      "needs_background": "light"
     },
     "output_type": "display_data"
    }
   ],
   "source": [
    "%matplotlib inline\n",
    "plt.scatter(df_x,df_y,c='b')\n",
    "plt.scatter(df_x1,df_y,c='y')\n",
    "plt.scatter(df_x2,df_y,c='g')\n",
    "plt.show()"
   ]
  },
  {
   "cell_type": "code",
   "execution_count": 391,
   "metadata": {
    "colab": {},
    "colab_type": "code",
    "id": "SyXO2iBJz2WF"
   },
   "outputs": [
    {
     "name": "stdout",
     "output_type": "stream",
     "text": [
      "(21613, 4)\n"
     ]
    }
   ],
   "source": [
    "x = np.c_[np.ones((len(df_x),1)),df_x, df_x1,df_x2]\n",
    "print(x.shape)"
   ]
  },
  {
   "cell_type": "code",
   "execution_count": 392,
   "metadata": {
    "colab": {},
    "colab_type": "code",
    "id": "SyXO2iBJz2WF"
   },
   "outputs": [],
   "source": [
    "# Note: Using train_test_split \n",
    "from sklearn.model_selection import train_test_split\n",
    "x_train, x_test, y_train, y_test = train_test_split(x, y, test_size=0.2, random_state=42)"
   ]
  },
  {
   "cell_type": "code",
   "execution_count": 393,
   "metadata": {
    "colab": {},
    "colab_type": "code",
    "id": "SyXO2iBJz2WF"
   },
   "outputs": [
    {
     "name": "stdout",
     "output_type": "stream",
     "text": [
      "(17290, 4) (17290,)\n"
     ]
    }
   ],
   "source": [
    "print(x_train.shape, y_train.shape)"
   ]
  },
  {
   "cell_type": "raw",
   "metadata": {
    "colab_type": "text",
    "id": "T_nfk6Nzz2WG"
   },
   "source": [
    "* Squaring bedrooms will increase the separation between not many bedrooms (e.g. 1) and lots of bedrooms (e.g. 4) since 1^2 = 1 but 4^2 = 16. Consequently this feature will mostly affect houses with many bedrooms.\n",
    "* bedrooms times bathrooms gives what's called an \"interaction\" feature. It is large when *both* of them are large.\n",
    "\n",
    "* Taking the log of squarefeet has the effect of bringing large values closer together and spreading out small values.\n",
    "* Adding latitude to longitude is totally non-sensical but we will do it anyway (you'll see why)"
   ]
  },
  {
   "cell_type": "code",
   "execution_count": null,
   "metadata": {
    "colab_type": "text",
    "id": "T_nfk6Nzz2WG"
   },
   "outputs": [],
   "source": []
  },
  {
   "cell_type": "code",
   "execution_count": 394,
   "metadata": {
    "colab_type": "text",
    "id": "T_nfk6Nzz2WG"
   },
   "outputs": [],
   "source": [
    "def predict(x,theta):\n",
    "    return np.dot(x, theta)"
   ]
  },
  {
   "cell_type": "code",
   "execution_count": 395,
   "metadata": {
    "colab_type": "text",
    "id": "T_nfk6Nzz2WG"
   },
   "outputs": [],
   "source": [
    "\n",
    "def error(x,y,theta):\n",
    "    y_pre = predict(x,theta)\n",
    "    return 1/len(x)*(y-y_pre)**2"
   ]
  },
  {
   "cell_type": "code",
   "execution_count": 396,
   "metadata": {
    "colab_type": "text",
    "id": "T_nfk6Nzz2WG"
   },
   "outputs": [],
   "source": [
    "\n",
    "def compute_cost(x,y,theta):\n",
    "    errors = error(x,y,theta)\n",
    "    return 1/(2*m)*np.dot(errors.T, errors)"
   ]
  },
  {
   "cell_type": "code",
   "execution_count": 397,
   "metadata": {
    "colab_type": "text",
    "id": "T_nfk6Nzz2WG"
   },
   "outputs": [],
   "source": [
    "def gradient_descent(x,y,theta,learning_rate,num_iter,m):  \n",
    "    cost_list = []\n",
    "    theta_list = []\n",
    "    for i in range(num_iter):\n",
    "        y_pre = predict(x,theta)\n",
    "        errors = error(x,y,theta)\n",
    "        cost = compute_cost(x,y,theta)\n",
    "        cost_list.append(cost)\n",
    "        theta-= learning_rate*np.dot(np.dot(x, theta) - y, x) / m\n",
    "        theta_list.append(theta)\n",
    "    return theta_list, cost_list"
   ]
  },
  {
   "cell_type": "code",
   "execution_count": 398,
   "metadata": {
    "colab": {},
    "colab_type": "code",
    "id": "519Y3hWGz2WI"
   },
   "outputs": [
    {
     "name": "stdout",
     "output_type": "stream",
     "text": [
      "(17290, 4) (17290,)\n"
     ]
    }
   ],
   "source": [
    "learning_rate = 0.00001\n",
    "m = len(y_train)  \n",
    "theta = np.random.rand(4)  #initializing theta with some random values\n",
    "num_iter = 20000\n",
    "#print(error(x_train, y_train,theta))\n",
    "print(x_train.shape, y_train.shape)"
   ]
  },
  {
   "cell_type": "code",
   "execution_count": 399,
   "metadata": {},
   "outputs": [
    {
     "name": "stdout",
     "output_type": "stream",
     "text": [
      "[2.33676625e+15 2.33461689e+15 2.33247146e+15 ... 7.80612143e+14\n",
      " 7.80611395e+14 7.80610648e+14]\n"
     ]
    }
   ],
   "source": [
    "theta_list, cost_list = gradient_descent(x_train,y_train,theta,learning_rate,num_iter,m)\n",
    "print(np.array(cost_list))"
   ]
  },
  {
   "cell_type": "code",
   "execution_count": 400,
   "metadata": {},
   "outputs": [
    {
     "data": {
      "image/png": "[encoded data removed]",
      "text/plain": [
       "<Figure size 432x288 with 1 Axes>"
      ]
     },
     "metadata": {
      "needs_background": "light"
     },
     "output_type": "display_data"
    }
   ],
   "source": [
    "plt.title('Cost Function', size = 30)\n",
    "plt.xlabel('num of iterator', size = 20)\n",
    "plt.ylabel('cost', size = 20)\n",
    "plt.plot(cost_list)\n",
    "plt.show()"
   ]
  },
  {
   "cell_type": "code",
   "execution_count": 401,
   "metadata": {},
   "outputs": [
    {
     "name": "stdout",
     "output_type": "stream",
     "text": [
      "(4,)\n"
     ]
    }
   ],
   "source": [
    "print(theta_list[-1].shape)"
   ]
  },
  {
   "cell_type": "code",
   "execution_count": 402,
   "metadata": {},
   "outputs": [
    {
     "name": "stdout",
     "output_type": "stream",
     "text": [
      "gia tri thuc the 735       365000.0\n",
      "2830      865000.0\n",
      "4106     1038000.0\n",
      "16218    1490000.0\n",
      "19964     711000.0\n",
      "           ...    \n",
      "13674     338000.0\n",
      "20377     673000.0\n",
      "8805      285000.0\n",
      "10168     605000.0\n",
      "2522      356500.0\n",
      "Name: price, Length: 4323, dtype: float64\n",
      "gia tri du doan [597046.58285041 635577.58332925 775158.35122894 ... 603153.53738363\n",
      " 584832.67378396 603153.53738363]\n"
     ]
    }
   ],
   "source": [
    "Ypre = predict(x_test,theta_list[-1])\n",
    "print(\"gia tri thuc the\", y_test)\n",
    "print(\"gia tri du doan\",Ypre)"
   ]
  }
 ],
 "metadata": {
  "colab": {
   "collapsed_sections": [
    "Gi0wQbEbz2VI",
    "SsGqZljQz2VP",
    "HXP1jsTez2VU",
    "LrbVVl3az2Vd",
    "TL-n5LXhz2Vi",
    "OJo5zUAhz2Vk",
    "YP9aGsJ8z2Vp",
    "kRef2Hr1z2Vt",
    "2ziT_3Lyz2Vx"
   ],
   "name": "Week 1 assignment.ipynb",
   "provenance": []
  },
  "kernelspec": {
   "display_name": "Python 3",
   "language": "python",
   "name": "python3"
  },
  "language_info": {
   "codemirror_mode": {
    "name": "ipython",
    "version": 3
   },
   "file_extension": ".py",
   "mimetype": "text/x-python",
   "name": "python",
   "nbconvert_exporter": "python",
   "pygments_lexer": "ipython3",
   "version": "3.6.9"
  }
 },
 "nbformat": 4,
 "nbformat_minor": 1
}
