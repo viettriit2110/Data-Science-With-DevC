{
 "cells": [
  {
   "cell_type": "markdown",
   "metadata": {
    "colab_type": "text",
    "id": "Ps5x-gYUCf9_"
   },
   "source": [
    "# Handwritten Digits Classification"
   ]
  },
  {
   "cell_type": "markdown",
   "metadata": {
    "colab_type": "text",
    "id": "0glR10XBCxNy"
   },
   "source": [
    "## Overview\n",
    "\n",
    "The MNIST database (Modified National Institute of Standards and Technology database) is a large database of handwritten digits that is commonly used for training various image processing systems. MNIST is like the \"Hello World\" of machine learning with which you can try out a few machine learning algorithms.\n",
    "\n",
    "![](https://upload.wikimedia.org/wikipedia/commons/2/27/MnistExamples.png)\n",
    "\n",
    "Each image is 28 pixels in height and 28 pixels in width, for a total of 784 pixels in total. Each pixel has a single pixel-value associated with it, indicating the lightness or darkness of that pixel, with higher numbers meaning lighter. This pixel-value is an integer between 0 and 255, inclusive.\n",
    "\n",
    "Visually, if we omit the \"pixel\" prefix, the pixels make up the image like this:\n",
    "```\n",
    "000 001 002 003 ... 026 027\n",
    "028 029 030 031 ... 054 055\n",
    "056 057 058 059 ... 082 083\n",
    " |   |   |   |  ...  |   |\n",
    "728 729 730 731 ... 754 755\n",
    "756 757 758 759 ... 782 783 \n",
    "```"
   ]
  },
  {
   "cell_type": "markdown",
   "metadata": {
    "colab_type": "text",
    "id": "-3hGXfqVDRna"
   },
   "source": [
    "## Get Data"
   ]
  },
  {
   "cell_type": "code",
   "execution_count": 1,
   "metadata": {
    "colab": {
     "base_uri": "https://localhost:8080/",
     "height": 71
    },
    "colab_type": "code",
    "id": "4IWx_-bBEYAT",
    "outputId": "90a8b876-1a0c-4bbb-bc02-aa6f5baf75d6"
   },
   "outputs": [],
   "source": [
    "import numpy as np\n",
    "import pandas as pd\n",
    "import seaborn as sns\n",
    "import matplotlib.pyplot as plt\n",
    "%matplotlib inline\n",
    "\n",
    "import warnings\n",
    "warnings.filterwarnings('ignore')\n",
    "\n",
    "sns.set_style(\"whitegrid\")"
   ]
  },
  {
   "cell_type": "code",
   "execution_count": 2,
   "metadata": {
    "colab": {
     "base_uri": "https://localhost:8080/",
     "height": 51
    },
    "colab_type": "code",
    "id": "BNhUbXb9CSbh",
    "outputId": "82781c64-214b-4422-b089-ea291f1de814"
   },
   "outputs": [
    {
     "ename": "ModuleNotFoundError",
     "evalue": "No module named 'tensorflow'",
     "output_type": "error",
     "traceback": [
      "\u001b[1;31m---------------------------------------------------------------------------\u001b[0m",
      "\u001b[1;31mModuleNotFoundError\u001b[0m                       Traceback (most recent call last)",
      "\u001b[1;32m<ipython-input-2-a6cd2e415f78>\u001b[0m in \u001b[0;36m<module>\u001b[1;34m()\u001b[0m\n\u001b[1;32m----> 1\u001b[1;33m \u001b[1;32mfrom\u001b[0m \u001b[0mtensorflow\u001b[0m\u001b[1;33m.\u001b[0m\u001b[0mkeras\u001b[0m\u001b[1;33m.\u001b[0m\u001b[0mdatasets\u001b[0m \u001b[1;32mimport\u001b[0m \u001b[0mmnist\u001b[0m\u001b[1;33m\u001b[0m\u001b[0m\n\u001b[0m\u001b[0;32m      2\u001b[0m \u001b[1;33m\u001b[0m\u001b[0m\n\u001b[0;32m      3\u001b[0m \u001b[1;33m(\u001b[0m\u001b[0mX_train\u001b[0m\u001b[1;33m,\u001b[0m \u001b[0my_train\u001b[0m\u001b[1;33m)\u001b[0m\u001b[1;33m,\u001b[0m \u001b[1;33m(\u001b[0m\u001b[0mX_test\u001b[0m\u001b[1;33m,\u001b[0m \u001b[0my_test\u001b[0m\u001b[1;33m)\u001b[0m \u001b[1;33m=\u001b[0m \u001b[0mmnist\u001b[0m\u001b[1;33m.\u001b[0m\u001b[0mload_data\u001b[0m\u001b[1;33m(\u001b[0m\u001b[1;33m)\u001b[0m\u001b[1;33m\u001b[0m\u001b[0m\n\u001b[0;32m      4\u001b[0m \u001b[1;33m\u001b[0m\u001b[0m\n\u001b[0;32m      5\u001b[0m \u001b[0mprint\u001b[0m\u001b[1;33m(\u001b[0m\u001b[1;34m'Training data:'\u001b[0m\u001b[1;33m,\u001b[0m \u001b[0mX_train\u001b[0m\u001b[1;33m.\u001b[0m\u001b[0mshape\u001b[0m\u001b[1;33m,\u001b[0m \u001b[0my_train\u001b[0m\u001b[1;33m.\u001b[0m\u001b[0mshape\u001b[0m\u001b[1;33m)\u001b[0m\u001b[1;33m\u001b[0m\u001b[0m\n",
      "\u001b[1;31mModuleNotFoundError\u001b[0m: No module named 'tensorflow'"
     ]
    }
   ],
   "source": [
    "from tensorflow.keras.datasets import mnist\n",
    "\n",
    "(X_train, y_train), (X_test, y_test) = mnist.load_data()\n",
    "\n",
    "print('Training data:', X_train.shape, y_train.shape)\n",
    "print('Test data:', X_test.shape, y_test.shape)"
   ]
  },
  {
   "cell_type": "markdown",
   "metadata": {
    "colab_type": "text",
    "id": "VYTtM9VlGs31"
   },
   "source": [
    "## EDA"
   ]
  },
  {
   "cell_type": "code",
   "execution_count": null,
   "metadata": {
    "colab": {},
    "colab_type": "code",
    "id": "xcZURSKuDcvm"
   },
   "outputs": [],
   "source": [
    "def plot_images(images, labels):\n",
    "    '''Plot images with their labels. Ten each row'''\n",
    "    plt.figure(figsize=(20, 10))\n",
    "    columns = 10\n",
    "    for i, image in enumerate(images):\n",
    "        ax = plt.subplot(len(images) / columns + 1, columns, i + 1)\n",
    "        ax.set_title(f\"{labels[i]}\", fontsize=16)\n",
    "        plt.axis('off')\n",
    "        plt.subplots_adjust(bottom=0.1)\n",
    "        plt.imshow(image, cmap='gray')\n",
    "\n",
    "def get_samples(n_samples, X, y):\n",
    "    '''Get n_samples images randomly'''\n",
    "    samples = np.random.choice(np.arange(len(y)), n_samples, replace=False)\n",
    "    return X[samples], y[samples]\n",
    "\n",
    "def get_digit(digit, n_samples, X, y):\n",
    "    '''Get n_samples images of the class digit randomly'''\n",
    "    y_digit = y[y == digit]\n",
    "    samples = np.random.choice(np.arange(len(y_digit)), n_samples, replace=False)\n",
    "    return X[y == digit][samples], y_digit[samples]"
   ]
  },
  {
   "cell_type": "code",
   "execution_count": null,
   "metadata": {
    "colab": {
     "base_uri": "https://localhost:8080/",
     "height": 436
    },
    "colab_type": "code",
    "id": "OpMe7EMCEF01",
    "outputId": "59086c81-e0ed-4d37-d9e3-1ae36add830c"
   },
   "outputs": [],
   "source": [
    "n_samples = 30\n",
    "# images, labels = get_samples(n_samples, X_train, y_train)\n",
    "images, labels = get_digit(1, n_samples, X_train, y_train)\n",
    "plot_images(images, labels)"
   ]
  },
  {
   "cell_type": "markdown",
   "metadata": {
    "colab_type": "text",
    "id": "7Ld_PUJxrzN1"
   },
   "source": [
    "**Plot the barplot of number of images of each class (0 to 9)**"
   ]
  },
  {
   "cell_type": "code",
   "execution_count": null,
   "metadata": {
    "colab": {
     "base_uri": "https://localhost:8080/",
     "height": 282
    },
    "colab_type": "code",
    "id": "xjVYEat8EJTd",
    "outputId": "3849061e-e5e5-4a00-d7eb-1cb22c9ee00a"
   },
   "outputs": [],
   "source": [
    "# Your code here\n",
    "sns.countplot(y_test)"
   ]
  },
  {
   "cell_type": "markdown",
   "metadata": {
    "colab_type": "text",
    "id": "7M_TfQZUrzOG"
   },
   "source": [
    "**Print out the range of pixel values (min, max)**"
   ]
  },
  {
   "cell_type": "code",
   "execution_count": null,
   "metadata": {
    "colab": {
     "base_uri": "https://localhost:8080/",
     "height": 34
    },
    "colab_type": "code",
    "id": "d0rZBlU8FmtE",
    "outputId": "3b68e8ab-9b5a-4a09-bea2-12124febef42"
   },
   "outputs": [],
   "source": [
    "# Your code here\n",
    "print('Pixel value range:', X_train.min(), X_train.max())"
   ]
  },
  {
   "cell_type": "markdown",
   "metadata": {
    "colab_type": "text",
    "id": "XC2sFqfcJjQ1"
   },
   "source": [
    "## Transform data for training"
   ]
  },
  {
   "cell_type": "markdown",
   "metadata": {
    "colab_type": "text",
    "id": "6W5AWXE2rzOj"
   },
   "source": [
    "**Get the first `n_samples` images randomly from training set and test set. Then reshape them into long vectors**"
   ]
  },
  {
   "cell_type": "code",
   "execution_count": null,
   "metadata": {
    "colab": {},
    "colab_type": "code",
    "id": "XF1XGXrvJlri"
   },
   "outputs": [],
   "source": [
    "n_samples = 1000\n",
    "n_test_samples = 200\n",
    "# Your code here\n",
    "X_train_flat, y_train_flat = get_samples(n_samples, X_train, y_train)\n",
    "X_test_flat, y_test_flat = get_samples(n_test_samples, X_test, y_test)\n",
    "\n",
    "# Normalization\n",
    "X_train_flat = X_train_flat.reshape((n_samples, -1))/255\n",
    "X_test_flat = X_test_flat.reshape((n_test_samples, -1))/255"
   ]
  },
  {
   "cell_type": "code",
   "execution_count": null,
   "metadata": {
    "colab": {
     "base_uri": "https://localhost:8080/",
     "height": 51
    },
    "colab_type": "code",
    "id": "66rNQGgnK1MX",
    "outputId": "7289fa2c-cd2e-4890-8bda-774849ba4274"
   },
   "outputs": [],
   "source": [
    "print('Training data', X_train_flat.shape)\n",
    "print('Test data', X_test_flat.shape)"
   ]
  },
  {
   "cell_type": "code",
   "execution_count": null,
   "metadata": {
    "colab": {},
    "colab_type": "code",
    "id": "59B4UG39o5N1"
   },
   "outputs": [],
   "source": [
    "# Get all the data\n",
    "# Run it after you finish training with the 1000 samples\n",
    "# X_train_flat = X_train.reshape((-1, 784))\n",
    "# X_test_flat = X_test.reshape((-1, 784))\n",
    "# y_train_flat = y_train\n",
    "# y_test_flat = y_test\n",
    "\n",
    "# print('Training data', X_train_flat.shape)\n",
    "# print('Test data', X_test_flat.shape)\n",
    "# print('Training label', y_train_flat.shape)\n",
    "# print('Test label', y_test_flat.shape)"
   ]
  },
  {
   "cell_type": "markdown",
   "metadata": {
    "colab_type": "text",
    "id": "bmxGMEGGLaJI"
   },
   "source": [
    "## Train models"
   ]
  },
  {
   "cell_type": "code",
   "execution_count": null,
   "metadata": {
    "colab": {},
    "colab_type": "code",
    "id": "4tJcSPEbLRsh"
   },
   "outputs": [],
   "source": [
    "from sklearn.svm import SVC\n",
    "from sklearn.metrics import confusion_matrix, accuracy_score\n",
    "from sklearn.model_selection import cross_val_score\n",
    "from sklearn.model_selection import GridSearchCV"
   ]
  },
  {
   "cell_type": "markdown",
   "metadata": {
    "colab_type": "text",
    "id": "blM8JAmirzPb"
   },
   "source": [
    "**Train a SVM model**: Set up the training process and train with the small samples of data first before you take the full training dataset to train."
   ]
  },
  {
   "cell_type": "code",
   "execution_count": null,
   "metadata": {
    "colab": {
     "base_uri": "https://localhost:8080/",
     "height": 85
    },
    "colab_type": "code",
    "id": "CIafedeOrzPe",
    "outputId": "3b9c3bea-e177-4b67-b7fc-b2f455380745"
   },
   "outputs": [],
   "source": [
    "# Your code here\n",
    "clf = SVC(kernel='linear')\n",
    "clf.fit(X_train_flat, y_train_flat)"
   ]
  },
  {
   "cell_type": "code",
   "execution_count": null,
   "metadata": {
    "colab": {
     "base_uri": "https://localhost:8080/",
     "height": 221
    },
    "colab_type": "code",
    "id": "ENUgYnAIv7BA",
    "outputId": "14bf5917-77fa-4c80-8828-42ed8b9fc04d"
   },
   "outputs": [],
   "source": [
    "parameters = {'gamma': [0.0001, 0.001, 0.01],\n",
    "              'C':[0.01, 0.1, 1, 10, 100]}\n",
    "\n",
    "model = SVC(kernel='rbf')\n",
    "\n",
    "gridsearch_models = GridSearchCV(estimator=model,\n",
    "                                 param_grid=parameters,\n",
    "                                 scoring='accuracy',\n",
    "                                 cv=5, n_jobs=-1)\n",
    "\n",
    "gridsearch_models.fit(X_train_flat, y_train_flat)"
   ]
  },
  {
   "cell_type": "code",
   "execution_count": null,
   "metadata": {
    "colab": {
     "base_uri": "https://localhost:8080/",
     "height": 1000
    },
    "colab_type": "code",
    "id": "xakJOw-uxZZZ",
    "outputId": "d4ab9297-3057-483b-98b8-54d6e4b878c6"
   },
   "outputs": [],
   "source": [
    "pd.DataFrame(gridsearch_models.cv_results_)"
   ]
  },
  {
   "cell_type": "code",
   "execution_count": null,
   "metadata": {
    "colab": {
     "base_uri": "https://localhost:8080/",
     "height": 51
    },
    "colab_type": "code",
    "id": "DtTjXahsxpgh",
    "outputId": "371da8fb-034c-4ff4-b6d5-2a952ddd5c24"
   },
   "outputs": [],
   "source": [
    "print('Best params', gridsearch_models.best_params_)\n",
    "print('Best score', gridsearch_models.best_score_)"
   ]
  },
  {
   "cell_type": "code",
   "execution_count": null,
   "metadata": {
    "colab": {},
    "colab_type": "code",
    "id": "yYoBam-Mx0xF"
   },
   "outputs": [],
   "source": [
    "best_model = gridsearch_models.best_estimator_"
   ]
  },
  {
   "cell_type": "markdown",
   "metadata": {
    "colab_type": "text",
    "id": "rupa4m2jX5rm"
   },
   "source": [
    "## Evaluation"
   ]
  },
  {
   "cell_type": "markdown",
   "metadata": {
    "colab_type": "text",
    "id": "UBh0Et0erzPs"
   },
   "source": [
    "**Get the predictions on test data**"
   ]
  },
  {
   "cell_type": "code",
   "execution_count": null,
   "metadata": {
    "colab": {
     "base_uri": "https://localhost:8080/",
     "height": 34
    },
    "colab_type": "code",
    "id": "1rwL5VCIX9qi",
    "outputId": "5f1e5496-076b-403c-8413-983bad4db29c"
   },
   "outputs": [],
   "source": [
    "# Your code here\n",
    "predictions = best_model.predict(X_test_flat)\n",
    "print('Accuracy Score:', accuracy_score(y_test_flat, predictions))"
   ]
  },
  {
   "cell_type": "markdown",
   "metadata": {
    "colab_type": "text",
    "id": "su0pvdthrzP9"
   },
   "source": [
    "**Plot the confusion matrix in form of a heatmap**"
   ]
  },
  {
   "cell_type": "code",
   "execution_count": null,
   "metadata": {
    "colab": {
     "base_uri": "https://localhost:8080/",
     "height": 612
    },
    "colab_type": "code",
    "id": "2RyKjfmHX7SN",
    "outputId": "28eb7106-cb77-435e-a5eb-65854cd5d18e"
   },
   "outputs": [],
   "source": [
    "# Your code here\n",
    "plt.figure(figsize=(10,10))\n",
    "sns.heatmap(confusion_matrix(y_test_flat, predictions), cmap=\"YlGnBu\", annot=True, fmt=\"d\")\n",
    "plt.title(f'Accuracy score: {accuracy_score(y_test_flat, predictions)}', fontsize=20)\n",
    "plt.show()"
   ]
  },
  {
   "cell_type": "markdown",
   "metadata": {
    "colab_type": "text",
    "id": "mpMUVV4VrzQP"
   },
   "source": [
    "**Plot the samples that the model predicts incorrectly**"
   ]
  },
  {
   "cell_type": "code",
   "execution_count": null,
   "metadata": {
    "colab": {
     "base_uri": "https://localhost:8080/",
     "height": 378
    },
    "colab_type": "code",
    "id": "-_uUXSpazDLu",
    "outputId": "aeea8629-76a7-489a-ec35-55bf4e149559"
   },
   "outputs": [],
   "source": [
    "# Your code here\n",
    "wrong_predicted_images = X_test_flat[y_test_flat != predictions].reshape((-1, 28, 28))\n",
    "wrong_predictions = predictions[y_test_flat != predictions]\n",
    "\n",
    "plot_images(wrong_predicted_images, wrong_predictions)"
   ]
  },
  {
   "cell_type": "markdown",
   "metadata": {
    "colab_type": "text",
    "id": "Y8O1Hh7LYNjP"
   },
   "source": [
    "## Save model"
   ]
  },
  {
   "cell_type": "code",
   "execution_count": null,
   "metadata": {
    "colab": {},
    "colab_type": "code",
    "id": "C7cNiWsLYPTE"
   },
   "outputs": [],
   "source": [
    "import pickle\n",
    "\n",
    "pickle.dump(clf, open('svm_mnist.pkl', 'wb'))"
   ]
  },
  {
   "cell_type": "markdown",
   "metadata": {
    "colab_type": "text",
    "id": "5B-g57XIYuH0"
   },
   "source": [
    "**Re-load model for testing**"
   ]
  },
  {
   "cell_type": "code",
   "execution_count": null,
   "metadata": {
    "colab": {
     "base_uri": "https://localhost:8080/",
     "height": 34
    },
    "colab_type": "code",
    "id": "WDsYcxfzYd8F",
    "outputId": "d0abeb62-729e-4434-ae0d-1f9393358300"
   },
   "outputs": [],
   "source": [
    "# Your code here\n",
    "with open('svm_mnist.pkl', 'rb') as model:\n",
    "    reload_model = pickle.load(model)\n",
    "\n",
    "predictions = reload_model.predict(X_test_flat)\n",
    "print(f'Accuracy score: {accuracy_score(y_test_flat, predictions)}')"
   ]
  },
  {
   "cell_type": "markdown",
   "metadata": {
    "colab_type": "text",
    "id": "1BVyCBz2m0Lz"
   },
   "source": [
    "## Embedding the model into a web application"
   ]
  },
  {
   "cell_type": "markdown",
   "metadata": {
    "colab_type": "text",
    "id": "0Y2hes6WnfxV"
   },
   "source": [
    "### Project structure\n",
    "\n",
    "* Clone the files of the repository\n",
    "\n",
    "```bash\n",
    "git clone https://github.com/dhminh1024/flask_doc.git\n",
    "```\n",
    "\n",
    "* Change directory\n",
    "\n",
    "```bash\n",
    "cd flask_doc\n",
    "```\n",
    "\n",
    "* Create the following folders and files\n",
    "\n",
    "|-app/\n",
    "    |-templates/\n",
    "        |-base.html\n",
    "    |-static/\n",
    "        |-js/\n",
    "            |-index.js\n",
    "        |-css/\n",
    "            |-style.css\n",
    "        |-images/\n",
    "    |-blueprints/\n",
    "        |-__ init__.py\n",
    "    |-middlewares/\n",
    "    |-models/\n",
    "    |-main.py\n",
    "\n",
    "```bash\n",
    "mkdir app app/templates app/static app/static/js app/static/css app/static/images app/blueprints app/middlewares app/models\n",
    "touch app/main.py app/templates/base.html app/static/js/index.js app/static/css/style.css\n",
    "touch app/blueprints/__init__.py\n",
    "```\n",
    "\n",
    "* Add jquery (optional)\n",
    "\n",
    "```bash\n",
    "mv ./jquery-3.4.1.min.js app/static/js/\n",
    "```\n",
    "\n",
    "* Add Canvas (optional)\n",
    "\n",
    "```bash\n",
    "mv ./index.js app/static/js/index.js\n",
    "```\n",
    "\n",
    "* Add Coderschool logo (optional)\n",
    "\n",
    "```bash\n",
    "mv ./images/coderschool-logo.png app/static/images/\n",
    "```\n",
    "\n",
    "* Add this code in **app/main.py**\n",
    "\n",
    "```python\n",
    "from flask import Flask, render_template\n",
    "from blueprints import *\n",
    "\n",
    "app = Flask(__name__)\n",
    "app.register_blueprint(home)\n",
    "\n",
    "if __name__ == '__main__':\n",
    "  app.run(host='127.0.0.1', port=5000, debug=True)\n",
    "```\n",
    "> *Hints: most of this code can be automaticaly generated with a VSCode Extension called flask-snippets by only writting \"fapp\"*\n",
    "> ![](https://i.imgur.com/npmdsha.png=500x)"
   ]
  },
  {
   "cell_type": "markdown",
   "metadata": {
    "colab_type": "text",
    "id": "oK1kJUy5rzRK"
   },
   "source": [
    "### Generating a new blueprint of our Flask app\n",
    "\n",
    "> A blueprint is a template for generating a \"section\" of our Flask app\n",
    "\n",
    "* In **flask_doc** directory, run this code in the **Terminal**\n",
    "\n",
    "```bash\n",
    "export NEW_BLUEPRINT=home\n",
    "mkdir app/blueprints/$NEW_BLUEPRINT\n",
    "touch app/blueprints/$NEW_BLUEPRINT/__init__.py app/blueprints/$NEW_BLUEPRINT/blueprint.py\n",
    "echo \"from .$NEW_BLUEPRINT import $NEW_BLUEPRINT\" >> app/blueprints/__init__.py\n",
    "echo \"from .blueprint import $NEW_BLUEPRINT\" > app/blueprints/$NEW_BLUEPRINT/__init__.py\n",
    "printf \\\n",
    "\"from flask import Blueprint, render_template, request\\n\\\n",
    "\\n\\\n",
    "$NEW_BLUEPRINT = Blueprint('$NEW_BLUEPRINT', __name__)\\\n",
    "\\n\\\n",
    "@$NEW_BLUEPRINT.route('/home')\\n\\\n",
    "def route_name():\\n\\\n",
    "    return render_template('$NEW_BLUEPRINT.html') \\n\\\n",
    "\" > app/blueprints/$NEW_BLUEPRINT/blueprint.py\n",
    "cp ./sample_page.html app/templates/$NEW_BLUEPRINT.html\n",
    "```\n",
    "> Hints: change 'home' to make a new blueprint (line 1 & 14)"
   ]
  },
  {
   "cell_type": "markdown",
   "metadata": {
    "colab_type": "text",
    "id": "57kzglW3rzRN"
   },
   "source": [
    "### HTML Template\n",
    "\n",
    "* Add this code in **app/templates/base.html**\n",
    "\n",
    "```html\n",
    "<!doctype html>\n",
    "<html lang=\"en\">\n",
    "  <head>\n",
    "    <title>Title</title>\n",
    "    <!-- Required meta tags -->\n",
    "    <meta charset=\"utf-8\">\n",
    "    <meta name=\"viewport\" content=\"width=device-width, initial-scale=1, shrink-to-fit=no\">\n",
    "\n",
    "    <!-- Bootstrap CSS -->\n",
    "    <link rel=\"stylesheet\" href=\"https://stackpath.bootstrapcdn.com/bootstrap/4.3.1/css/bootstrap.min.css\" integrity=\"sha384-ggOyR0iXCbMQv3Xipma34MD+dH/1fQ784/j6cY/iJTQUOhcWr7x9JvoRxT2MZw1T\" crossorigin=\"anonymous\">\n",
    "    <!-- CSS -->\n",
    "    <link href=\"static/css/style.css\" rel=\"stylesheet\">\n",
    "</head>\n",
    "  <body class=\"text-center\">\n",
    "    {% block content%} {% endblock %} \n",
    "    \n",
    "    <script src=\"static/js/jquery-3.4.1.min.js\"></script>\n",
    "    <script src=\"static/js/index.js\"></script>\n",
    "    <!-- AJAX optional -->\n",
    "    <script type=\"text/javascript\">\n",
    "        $(\"#myButton\").click(function(){\n",
    "            $('#result').text('  Predicting...');\n",
    "            var $SCRIPT_ROOT = {{request.script_root|tojson|safe}};\n",
    "            var canvasObj = document.getElementById(\"canvas\");\n",
    "            var img = canvasObj.toDataURL('image/jpeg');\n",
    "            $.ajax({\n",
    "                type: \"POST\",\n",
    "                url: $SCRIPT_ROOT + \"/upload/\",\n",
    "                data: img,\n",
    "                success: function(data){\n",
    "                    $('#result').text('Predictions ' + data);\n",
    "                }\n",
    "            });\n",
    "        });\n",
    "    </script>\n",
    "  </body>\n",
    "</html>\n",
    "```\n",
    "\n",
    "> *Hints: most of this code can be automaticaly generated with VSCode Extensions called Bootstrap 4, Font awesome 4, Font Awesome 5 Free & Pro snippets by only writting \"b4-$\"*"
   ]
  },
  {
   "cell_type": "markdown",
   "metadata": {
    "colab_type": "text",
    "id": "UBe_IHzKrzRP"
   },
   "source": [
    "### Run the app\n",
    "\n",
    "* Change directory\n",
    "\n",
    "```bash\n",
    "cd app\n",
    "```\n",
    "\n",
    "* Run the app\n",
    "\n",
    "```bash\n",
    "python main.py\n",
    "```\n",
    "\n",
    "Congratulation, you have just created your Flask app. Here is the link of your Flask app: http://127.0.0.1:5000/home\n",
    "\n",
    "### Html for MNIST example\n",
    "\n",
    "* Replace the code of **app/templates/home.html** by this code \n",
    "\n",
    "```html\n",
    "{% extends \"base.html\" %} {% block content %}\n",
    "<div style=\"margin-top:50px\">\n",
    "  <img class=\"mb-4\" src=\"static/images/coderschool-logo.png\" alt=\"\" />\n",
    "  <h1 class=\"h3 mb-3 font-weight-normal\">Please draw a number</h1>\n",
    "\n",
    "  <canvas id=\"canvas\" width=\"400\" height=\"400\"></canvas>\n",
    "\n",
    "  <h1 class=\"h3 mb-3 font-weight-normal\" id=\"result\">Predictions:</h1>\n",
    "\n",
    "  <button id=\"myButton\" class=\"btn  btn-primary \" type=\"submit\">\n",
    "    Predict\n",
    "  </button>\n",
    "  <button id=\"clearButton\" class=\"btn btn-success\" type=\"submit\">\n",
    "    Clear\n",
    "  </button>\n",
    "\n",
    "  <p class=\"mt-5 mb-3 text-muted\">&copy; CoderSchool</p>\n",
    "</div>\n",
    "{% endblock %}\n",
    "\n",
    "```\n",
    "\n",
    "### Python for MNIST example\n",
    "\n",
    "* In **flask_doc** directory, run this code to generate the blueprint related to upload\n",
    "\n",
    "```bash\n",
    "export NEW_BLUEPRINT=upload_api\n",
    "mkdir app/blueprints/$NEW_BLUEPRINT\n",
    "touch app/blueprints/$NEW_BLUEPRINT/__init__.py app/blueprints/$NEW_BLUEPRINT/blueprint.py\n",
    "echo \"from .$NEW_BLUEPRINT import $NEW_BLUEPRINT\" >> app/blueprints/__init__.py\n",
    "echo \"from .blueprint import $NEW_BLUEPRINT\" > app/blueprints/$NEW_BLUEPRINT/__init__.py\n",
    "printf \\\n",
    "\"from flask import Blueprint, render_template, request\\n\\\n",
    "\\n\\\n",
    "$NEW_BLUEPRINT = Blueprint('$NEW_BLUEPRINT', __name__)\\\n",
    "\\n\\\n",
    "@$NEW_BLUEPRINT.route('/upload_api')\\n\\\n",
    "def route_name():\\n\\\n",
    "    return render_template('$NEW_BLUEPRINT.html') \\n\\\n",
    "\" > app/blueprints/$NEW_BLUEPRINT/blueprint.py\n",
    "cp ./sample_page.html app/templates/$NEW_BLUEPRINT.html\n",
    "```\n",
    "\n",
    "\n",
    "* Replace the code of **app/blueprints/upload_api/blueprint.py** by this code\n",
    "\n",
    "```python\n",
    "from flask import Blueprint, render_template, request\n",
    "import re\n",
    "import base64\n",
    "import numpy as np\n",
    "import pickle\n",
    "from skimage import io, color, transform\n",
    "import matplotlib.pyplot as plt\n",
    "\n",
    " \n",
    "def parse_image(imgData):\n",
    "    img_str = re.search(b\"base64,(.*)\", imgData).group(1)\n",
    "    img_decode = base64.decodebytes(img_str)\n",
    "    with open('output.png', \"wb\") as f:\n",
    "        f.write(img_decode)\n",
    "    return img_decode\n",
    "\n",
    "def preprocess_base64(base64_decoded):\n",
    "    img = io.imread(base64_decoded, plugin='imageio')\n",
    "    img = (255 - img)/255\n",
    "    img = color.rgb2gray(img)\n",
    "    img = transform.resize(img, (28,28))\n",
    "    # Testing purpose\n",
    "    # plt.imsave('processed.jpg', img, cmap='gray')\n",
    "    img = img.reshape((1, -1))\n",
    "    return img\n",
    " \n",
    "# Load your model here\n",
    "with open('models/svm_mnist.pkl', 'rb') as model:\n",
    "    model = pickle.load(model)\n",
    " \n",
    "upload_api = Blueprint('upload_api', __name__)\n",
    " \n",
    " \n",
    "@upload_api.route('/upload/', methods=['POST'])\n",
    "def upload():\n",
    "    img_decode = parse_image(request.get_data())\n",
    "    img = preprocess_base64(img_decode)\n",
    "    prediction = model.predict(img)[0]\n",
    "    return str(prediction)\n",
    "\n",
    "```\n",
    "\n",
    "* Register the upload API in **app/main.py**:\n",
    "\n",
    "```python\n",
    "from flask import Flask, render_template\n",
    "from blueprints import *\n",
    "\n",
    "app = Flask(__name__)\n",
    "app.register_blueprint(home)\n",
    "app.register_blueprint(upload_api)\n",
    "\n",
    "if __name__ == '__main__':\n",
    "    app.run(host='127.0.0.1', port=5000, debug=True)\n",
    "```"
   ]
  },
  {
   "cell_type": "code",
   "execution_count": null,
   "metadata": {
    "colab": {},
    "colab_type": "code",
    "id": "_bBy2A8nExWB"
   },
   "outputs": [],
   "source": []
  }
 ],
 "metadata": {
  "colab": {
   "collapsed_sections": [],
   "name": "Copy of Weekly-Project-Solution.ipynb",
   "provenance": [],
   "toc_visible": true
  },
  "kernelspec": {
   "display_name": "Python 3",
   "language": "python",
   "name": "python3"
  },
  "language_info": {
   "codemirror_mode": {
    "name": "ipython",
    "version": 3
   },
   "file_extension": ".py",
   "mimetype": "text/x-python",
   "name": "python",
   "nbconvert_exporter": "python",
   "pygments_lexer": "ipython3",
   "version": "3.6.5"
  }
 },
 "nbformat": 4,
 "nbformat_minor": 1
}
